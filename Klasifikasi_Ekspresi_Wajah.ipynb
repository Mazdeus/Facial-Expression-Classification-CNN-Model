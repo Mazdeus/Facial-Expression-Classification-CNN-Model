{
  "nbformat": 4,
  "nbformat_minor": 0,
  "metadata": {
    "colab": {
      "provenance": [],
      "gpuType": "T4"
    },
    "kernelspec": {
      "name": "python3",
      "display_name": "Python 3"
    },
    "language_info": {
      "name": "python"
    },
    "accelerator": "GPU"
  },
  "cells": [
    {
      "cell_type": "markdown",
      "source": [
        "# 1.  IMPORT LIBRARY"
      ],
      "metadata": {
        "id": "L969H5Y7XcY-"
      }
    },
    {
      "cell_type": "code",
      "execution_count": null,
      "metadata": {
        "id": "sj4bTJgyFm8i"
      },
      "outputs": [],
      "source": [
        "import pandas as pd  # For data manipulation and analysis\n",
        "import numpy as np  # For numerical operations and working with arrays\n",
        "import cv2 as cv  # For image processing tasks\n",
        "import os  # For interacting with the operating system, like file paths\n",
        "import tensorflow as tf  # For building and training neural network models\n",
        "\n",
        "import zipfile\n",
        "import os\n",
        "from sklearn.utils.class_weight import compute_class_weight\n",
        "from tensorflow.keras import optimizers\n",
        "from keras.models import Sequential\n",
        "from keras.layers import Conv2D, MaxPooling2D, Flatten, Dense, Dropout\n",
        "import plotly.graph_objects as go\n",
        "from sklearn.metrics import confusion_matrix\n",
        "import numpy as np\n",
        "import seaborn as sns\n",
        "import matplotlib.pyplot as plt\n",
        "\n",
        "from tensorflow.keras.preprocessing.image import ImageDataGenerator  # For real-time data augmentation\n",
        "from tensorflow.keras.models import load_model  # For loading a saved Keras model\n",
        "from keras.models import Sequential  # For creating a linear stack of layers in the model\n",
        "from keras.layers import Conv2D, MaxPooling2D, Dense, Dropout, Flatten  # For building model layers\n",
        "from keras.optimizers import Adam  # For optimization algorithms\n",
        "from keras.layers import BatchNormalization  # For applying Batch Normalization in neural network layers\n",
        "from keras.regularizers import l2  # For applying L2 regularization to prevent overfitting\n",
        "from keras.callbacks import ReduceLROnPlateau, EarlyStopping  # Importing specific callback functions\n",
        "\n",
        "import warnings  # For handling warnings\n",
        "import sys  # For interacting with the Python interpreter\n",
        "if not sys.warnoptions:\n",
        "    warnings.simplefilter(\"ignore\")  # Ignore simple warnings if not already done\n",
        "warnings.filterwarnings(\"ignore\", category=DeprecationWarning)  # Ignore deprecation warnings"
      ]
    },
    {
      "cell_type": "markdown",
      "source": [
        "# 2. DATA LOADING"
      ],
      "metadata": {
        "id": "-2usVJKxhkPf"
      }
    },
    {
      "cell_type": "code",
      "source": [
        "# # Mount Google Drive to access the dataset\n",
        "# from google.colab import drive\n",
        "# drive.mount('/content/drive')\n",
        "# print(drive)\n",
        "\n",
        "from google.colab import files\n",
        "uploaded = files.upload()\n"
      ],
      "metadata": {
        "colab": {
          "base_uri": "https://localhost:8080/",
          "height": 73
        },
        "id": "jG__0K1ukUbh",
        "outputId": "77574c77-ce24-44f5-ebac-601fcaed3906"
      },
      "execution_count": null,
      "outputs": [
        {
          "output_type": "display_data",
          "data": {
            "text/plain": [
              "<IPython.core.display.HTML object>"
            ],
            "text/html": [
              "\n",
              "     <input type=\"file\" id=\"files-0e8e747f-3e10-422c-b960-72ffff4e4a5c\" name=\"files[]\" multiple disabled\n",
              "        style=\"border:none\" />\n",
              "     <output id=\"result-0e8e747f-3e10-422c-b960-72ffff4e4a5c\">\n",
              "      Upload widget is only available when the cell has been executed in the\n",
              "      current browser session. Please rerun this cell to enable.\n",
              "      </output>\n",
              "      <script>// Copyright 2017 Google LLC\n",
              "//\n",
              "// Licensed under the Apache License, Version 2.0 (the \"License\");\n",
              "// you may not use this file except in compliance with the License.\n",
              "// You may obtain a copy of the License at\n",
              "//\n",
              "//      http://www.apache.org/licenses/LICENSE-2.0\n",
              "//\n",
              "// Unless required by applicable law or agreed to in writing, software\n",
              "// distributed under the License is distributed on an \"AS IS\" BASIS,\n",
              "// WITHOUT WARRANTIES OR CONDITIONS OF ANY KIND, either express or implied.\n",
              "// See the License for the specific language governing permissions and\n",
              "// limitations under the License.\n",
              "\n",
              "/**\n",
              " * @fileoverview Helpers for google.colab Python module.\n",
              " */\n",
              "(function(scope) {\n",
              "function span(text, styleAttributes = {}) {\n",
              "  const element = document.createElement('span');\n",
              "  element.textContent = text;\n",
              "  for (const key of Object.keys(styleAttributes)) {\n",
              "    element.style[key] = styleAttributes[key];\n",
              "  }\n",
              "  return element;\n",
              "}\n",
              "\n",
              "// Max number of bytes which will be uploaded at a time.\n",
              "const MAX_PAYLOAD_SIZE = 100 * 1024;\n",
              "\n",
              "function _uploadFiles(inputId, outputId) {\n",
              "  const steps = uploadFilesStep(inputId, outputId);\n",
              "  const outputElement = document.getElementById(outputId);\n",
              "  // Cache steps on the outputElement to make it available for the next call\n",
              "  // to uploadFilesContinue from Python.\n",
              "  outputElement.steps = steps;\n",
              "\n",
              "  return _uploadFilesContinue(outputId);\n",
              "}\n",
              "\n",
              "// This is roughly an async generator (not supported in the browser yet),\n",
              "// where there are multiple asynchronous steps and the Python side is going\n",
              "// to poll for completion of each step.\n",
              "// This uses a Promise to block the python side on completion of each step,\n",
              "// then passes the result of the previous step as the input to the next step.\n",
              "function _uploadFilesContinue(outputId) {\n",
              "  const outputElement = document.getElementById(outputId);\n",
              "  const steps = outputElement.steps;\n",
              "\n",
              "  const next = steps.next(outputElement.lastPromiseValue);\n",
              "  return Promise.resolve(next.value.promise).then((value) => {\n",
              "    // Cache the last promise value to make it available to the next\n",
              "    // step of the generator.\n",
              "    outputElement.lastPromiseValue = value;\n",
              "    return next.value.response;\n",
              "  });\n",
              "}\n",
              "\n",
              "/**\n",
              " * Generator function which is called between each async step of the upload\n",
              " * process.\n",
              " * @param {string} inputId Element ID of the input file picker element.\n",
              " * @param {string} outputId Element ID of the output display.\n",
              " * @return {!Iterable<!Object>} Iterable of next steps.\n",
              " */\n",
              "function* uploadFilesStep(inputId, outputId) {\n",
              "  const inputElement = document.getElementById(inputId);\n",
              "  inputElement.disabled = false;\n",
              "\n",
              "  const outputElement = document.getElementById(outputId);\n",
              "  outputElement.innerHTML = '';\n",
              "\n",
              "  const pickedPromise = new Promise((resolve) => {\n",
              "    inputElement.addEventListener('change', (e) => {\n",
              "      resolve(e.target.files);\n",
              "    });\n",
              "  });\n",
              "\n",
              "  const cancel = document.createElement('button');\n",
              "  inputElement.parentElement.appendChild(cancel);\n",
              "  cancel.textContent = 'Cancel upload';\n",
              "  const cancelPromise = new Promise((resolve) => {\n",
              "    cancel.onclick = () => {\n",
              "      resolve(null);\n",
              "    };\n",
              "  });\n",
              "\n",
              "  // Wait for the user to pick the files.\n",
              "  const files = yield {\n",
              "    promise: Promise.race([pickedPromise, cancelPromise]),\n",
              "    response: {\n",
              "      action: 'starting',\n",
              "    }\n",
              "  };\n",
              "\n",
              "  cancel.remove();\n",
              "\n",
              "  // Disable the input element since further picks are not allowed.\n",
              "  inputElement.disabled = true;\n",
              "\n",
              "  if (!files) {\n",
              "    return {\n",
              "      response: {\n",
              "        action: 'complete',\n",
              "      }\n",
              "    };\n",
              "  }\n",
              "\n",
              "  for (const file of files) {\n",
              "    const li = document.createElement('li');\n",
              "    li.append(span(file.name, {fontWeight: 'bold'}));\n",
              "    li.append(span(\n",
              "        `(${file.type || 'n/a'}) - ${file.size} bytes, ` +\n",
              "        `last modified: ${\n",
              "            file.lastModifiedDate ? file.lastModifiedDate.toLocaleDateString() :\n",
              "                                    'n/a'} - `));\n",
              "    const percent = span('0% done');\n",
              "    li.appendChild(percent);\n",
              "\n",
              "    outputElement.appendChild(li);\n",
              "\n",
              "    const fileDataPromise = new Promise((resolve) => {\n",
              "      const reader = new FileReader();\n",
              "      reader.onload = (e) => {\n",
              "        resolve(e.target.result);\n",
              "      };\n",
              "      reader.readAsArrayBuffer(file);\n",
              "    });\n",
              "    // Wait for the data to be ready.\n",
              "    let fileData = yield {\n",
              "      promise: fileDataPromise,\n",
              "      response: {\n",
              "        action: 'continue',\n",
              "      }\n",
              "    };\n",
              "\n",
              "    // Use a chunked sending to avoid message size limits. See b/62115660.\n",
              "    let position = 0;\n",
              "    do {\n",
              "      const length = Math.min(fileData.byteLength - position, MAX_PAYLOAD_SIZE);\n",
              "      const chunk = new Uint8Array(fileData, position, length);\n",
              "      position += length;\n",
              "\n",
              "      const base64 = btoa(String.fromCharCode.apply(null, chunk));\n",
              "      yield {\n",
              "        response: {\n",
              "          action: 'append',\n",
              "          file: file.name,\n",
              "          data: base64,\n",
              "        },\n",
              "      };\n",
              "\n",
              "      let percentDone = fileData.byteLength === 0 ?\n",
              "          100 :\n",
              "          Math.round((position / fileData.byteLength) * 100);\n",
              "      percent.textContent = `${percentDone}% done`;\n",
              "\n",
              "    } while (position < fileData.byteLength);\n",
              "  }\n",
              "\n",
              "  // All done.\n",
              "  yield {\n",
              "    response: {\n",
              "      action: 'complete',\n",
              "    }\n",
              "  };\n",
              "}\n",
              "\n",
              "scope.google = scope.google || {};\n",
              "scope.google.colab = scope.google.colab || {};\n",
              "scope.google.colab._files = {\n",
              "  _uploadFiles,\n",
              "  _uploadFilesContinue,\n",
              "};\n",
              "})(self);\n",
              "</script> "
            ]
          },
          "metadata": {}
        },
        {
          "output_type": "stream",
          "name": "stdout",
          "text": [
            "Saving Dataset_CK48.zip to Dataset_CK48.zip\n"
          ]
        }
      ]
    },
    {
      "cell_type": "code",
      "source": [
        "import zipfile\n",
        "import os\n",
        "\n",
        "with zipfile.ZipFile(\"Dataset_CK48.zip\", 'r') as zip_ref:\n",
        "    zip_ref.extractall(\".\")\n"
      ],
      "metadata": {
        "id": "RcWmRQeQCwIS"
      },
      "execution_count": null,
      "outputs": []
    },
    {
      "cell_type": "markdown",
      "source": [
        "# 3. EKSPLORASI DATA, DATA PREPARATION"
      ],
      "metadata": {
        "id": "GBisrYz3Y51E"
      }
    },
    {
      "cell_type": "code",
      "source": [
        "import shutil\n",
        "\n",
        "# Define the path to your original dataset and the paths where you want to store your train and test datasets\n",
        "original_dataset_dir = 'Dataset CK+48'\n",
        "train_dir = 'CK+48_train'\n",
        "test_dir = 'CK+48_test'\n",
        "\n",
        "# Create directories for training and testing datasets if they do not exist\n",
        "os.makedirs(train_dir, exist_ok=True)\n",
        "os.makedirs(test_dir, exist_ok=True)\n",
        "\n",
        "# Define the split ratio\n",
        "train_ratio = 0.8"
      ],
      "metadata": {
        "id": "jDw7sCMJZdTK"
      },
      "execution_count": null,
      "outputs": []
    },
    {
      "cell_type": "code",
      "source": [
        "# Hitung distribusi dataset asli secara otomatis\n",
        "print(\"Distribusi dataset asli:\")\n",
        "class_counts = {}\n",
        "total_images = 0\n",
        "\n",
        "for emotion in os.listdir(original_dataset_dir):\n",
        "    emotion_dir = os.path.join(original_dataset_dir, emotion)\n",
        "    if os.path.isdir(emotion_dir):\n",
        "        count = len([f for f in os.listdir(emotion_dir)\n",
        "                    if os.path.isfile(os.path.join(emotion_dir, f))\n",
        "                    and f.lower().endswith(('.png', '.jpg', '.jpeg'))])\n",
        "        class_counts[emotion] = count\n",
        "        total_images += count\n",
        "        print(f\"{emotion}: {count}\")\n",
        "\n",
        "print(f\"\\nTotal images: {total_images}\")\n",
        "\n",
        "# Analisis tingkat ketidakseimbangan dataset\n",
        "max_count = max(class_counts.values())\n",
        "min_count = min(class_counts.values())\n",
        "imbalance_ratio = max_count / min_count\n",
        "print(f\"Imbalance ratio: {imbalance_ratio:.2f} (max: {max_count}, min: {min_count})\")\n"
      ],
      "metadata": {
        "colab": {
          "base_uri": "https://localhost:8080/"
        },
        "id": "VXTjZlNxjaA1",
        "outputId": "c48fe4fc-ffd7-4543-9e6b-00797661c70e"
      },
      "execution_count": null,
      "outputs": [
        {
          "output_type": "stream",
          "name": "stdout",
          "text": [
            "Distribusi dataset asli:\n",
            "sadness: 84\n",
            "disgust: 177\n",
            "happy: 207\n",
            "anger: 135\n",
            "fear: 75\n",
            "contempt: 54\n",
            "surprise: 249\n",
            "\n",
            "Total images: 981\n",
            "Imbalance ratio: 4.61 (max: 249, min: 54)\n"
          ]
        }
      ]
    },
    {
      "cell_type": "markdown",
      "source": [
        "# 4. DATA SPLITTING"
      ],
      "metadata": {
        "id": "H7G7WCCkjyRv"
      }
    },
    {
      "cell_type": "code",
      "source": [
        "# Split dataset dengan mempertahankan proporsi\n",
        "for emotion in os.listdir(original_dataset_dir):\n",
        "    emotion_dir = os.path.join(original_dataset_dir, emotion)\n",
        "    if os.path.isdir(emotion_dir):\n",
        "        images = [f for f in os.listdir(emotion_dir) if os.path.isfile(os.path.join(emotion_dir, f))]\n",
        "\n",
        "        # Set random seed untuk reproducibility\n",
        "        np.random.seed(42)\n",
        "        np.random.shuffle(images)\n",
        "\n",
        "        train_size = int(len(images) * train_ratio)\n",
        "        train_images = images[:train_size]\n",
        "        test_images = images[train_size:]\n",
        "\n",
        "        train_emotion_dir = os.path.join(train_dir, emotion)\n",
        "        test_emotion_dir = os.path.join(test_dir, emotion)\n",
        "        os.makedirs(train_emotion_dir, exist_ok=True)\n",
        "        os.makedirs(test_emotion_dir, exist_ok=True)\n",
        "\n",
        "        for image in train_images:\n",
        "            shutil.copy(os.path.join(emotion_dir, image), os.path.join(train_emotion_dir, image))\n",
        "        for image in test_images:\n",
        "            shutil.copy(os.path.join(emotion_dir, image), os.path.join(test_emotion_dir, image))\n",
        "\n",
        "print(\"Dataset splitting complete\")"
      ],
      "metadata": {
        "colab": {
          "base_uri": "https://localhost:8080/"
        },
        "id": "fTLdVAhZ-Lml",
        "outputId": "7dab3845-ddc5-422c-e50b-b6c49aa6f25b"
      },
      "execution_count": null,
      "outputs": [
        {
          "output_type": "stream",
          "name": "stdout",
          "text": [
            "Dataset splitting complete\n"
          ]
        }
      ]
    },
    {
      "cell_type": "markdown",
      "source": [
        "Bagian kode ini bertujuan untuk memisahkan dataset gambar asli Anda, yang berisi berbagai kategori emosi, menjadi dua bagian utama: satu untuk melatih model kecerdasan buatan (disebut dataset training) dan satu lagi untuk menguji kinerja model pada data yang belum pernah dilihatnya (disebut dataset testing). Proses pemisahan ini adalah langkah penting dalam membangun model machine learning agar evaluasi model menjadi objektif.\n",
        "\n",
        "Langkah-langkahnya dimulai dengan menentukan lokasi folder tempat dataset asli Anda berada dan menentukan nama folder baru yang akan dibuat untuk menyimpan data hasil pemisahan (untuk training dan testing). Kode kemudian memastikan bahwa kedua folder baru ini ada, jika belum ada maka akan dibuat secara otomatis.\n",
        "\n",
        "Selanjutnya, kode menetapkan rasio pemisahan. Dalam kasus ini, rasio ditetapkan 80% untuk data training dan 20% untuk data testing.\n",
        "\n",
        "Inti dari prosesnya adalah kode akan mengunjungi setiap kategori emosi yang ada dalam dataset asli Anda satu per satu. Untuk setiap kategori emosi (misalnya, 'senang', 'sedih', 'marah'):\n",
        "\n",
        "1. Kode akan mengumpulkan daftar semua file gambar yang ada dalam kategori emosi tersebut.\n",
        "2. Daftar gambar ini kemudian diacak secara acak. Pengacakan ini penting agar pembagian data tidak bias atau terpola.\n",
        "3. Berdasarkan rasio yang sudah ditentukan (80:20), daftar gambar yang sudah diacak tersebut dibagi menjadi dua kelompok: kelompok untuk pelatihan dan kelompok untuk pengujian.\n",
        "4. Kode membuat sub-folder dengan nama emosi yang sedang diproses di dalam folder training dan folder testing yang sudah dibuat sebelumnya.\n",
        "5. Terakhir, gambar-gambar dari kelompok pelatihan disalin ke sub-folder emosi di dalam folder training, dan gambar-gambar dari kelompok pengujian disalin ke sub-folder emosi di dalam folder testing.\n",
        "\n",
        "Proses ini diulang untuk semua kategori emosi dalam dataset asli. Setelah selesai, kode akan menampilkan pesan yang memberitahukan bahwa pemisahan dataset telah berhasil dilakukan. Hasilnya, Anda akan memiliki struktur folder baru yang memuat gambar-gambar emosi yang sudah terbagi rapi untuk kebutuhan training dan testing model Anda."
      ],
      "metadata": {
        "id": "8RanxG1NfC2j"
      }
    },
    {
      "cell_type": "code",
      "source": [
        "# Hitung distribusi train set untuk class weights\n",
        "train_counts = {}\n",
        "for emotion in os.listdir(train_dir):\n",
        "    emotion_dir = os.path.join(train_dir, emotion)\n",
        "    if os.path.isdir(emotion_dir):\n",
        "        count = len([f for f in os.listdir(emotion_dir) if os.path.isfile(os.path.join(emotion_dir, f))])\n",
        "        train_counts[emotion] = count\n",
        "\n",
        "print(\"\\nDistribusi train set:\")\n",
        "for emotion, count in train_counts.items():\n",
        "    print(f\"{emotion}: {count}\")"
      ],
      "metadata": {
        "colab": {
          "base_uri": "https://localhost:8080/"
        },
        "id": "yOR9W19y_VEh",
        "outputId": "e8abdd04-fa58-4939-f61d-281c23873cc3"
      },
      "execution_count": null,
      "outputs": [
        {
          "output_type": "stream",
          "name": "stdout",
          "text": [
            "\n",
            "Distribusi train set:\n",
            "sadness: 67\n",
            "disgust: 141\n",
            "happy: 165\n",
            "anger: 108\n",
            "fear: 60\n",
            "contempt: 43\n",
            "surprise: 199\n"
          ]
        }
      ]
    },
    {
      "cell_type": "markdown",
      "source": [
        "# *Extraksi Dimensi dari gambar"
      ],
      "metadata": {
        "id": "1w_9CX55ZrA7"
      }
    },
    {
      "cell_type": "code",
      "source": [
        "import cv2\n",
        "\n",
        "# Load the image\n",
        "img = cv2.imread('Dataset CK+48/disgust/S098_003_00000013.png')\n",
        "\n",
        "# Get dimensions\n",
        "height, width, channels = img.shape\n",
        "print(f'Dimensions: {width}x{height}')"
      ],
      "metadata": {
        "colab": {
          "base_uri": "https://localhost:8080/"
        },
        "id": "88jfg4LubfU8",
        "outputId": "b6e26e14-542f-463f-f398-5d90517aab37"
      },
      "execution_count": null,
      "outputs": [
        {
          "output_type": "stream",
          "name": "stdout",
          "text": [
            "Dimensions: 48x48\n"
          ]
        }
      ]
    },
    {
      "cell_type": "markdown",
      "source": [
        "Kode ini adalah langkah-langkah untuk membuat dan melatih model kecerdasan buatan agar bisa mengenali emosi pada gambar wajah.\n",
        "\n",
        "1. Siapkan Alat & Data: Kode ini mengumpulkan semua \"alat\" (pustaka seperti cv2, tensorflow, keras) yang diperlukan untuk mengolah gambar dan membuat model pintar. Dataset gambar emosi asli (seperti orang senyum, sedih, marah) dipisah jadi dua: sebagian besar untuk model belajar (data latih) dan sebagian kecil untuk menguji model setelah belajar (data uji).\n",
        "\n",
        "2. Atur Data Gambar: Gambar-gambar ini diatur lagi agar siap dipakai model. Untuk data belajar, gambar sengaja diubah-ubah sedikit secara acak (diputar, digeser, dll) setiap kali dipakai. Ini namanya augmentasi data, tujuannya biar model pintar mengenali emosi meskipun gambarnya bervariasi, dan tidak hanya menghafal gambar asli. Gambar juga dibuat kecil (48x48 piksel) dan hitam putih. Untuk data uji, gambar tidak diubah acak, hanya diatur ukurannya saja, biar hasil ujinya jujur.\n",
        "\n",
        "3. Buat Otak Model: Kode ini membangun \"otak\" model (disebut CNN) yang bisa \"melihat\" gambar. Otak ini punya banyak lapisan yang tugasnya mengenali pola-pola penting di wajah (seperti mata, mulut, bentuk alis) dan akhirnya memutuskan emosi apa yang ada di gambar. Ada lapisan khusus yang membantu model belajar lebih stabil dan tidak gampang salah (overfitting).\n",
        "\n",
        "4. Siapkan Belajar: Model yang sudah dibuat diatur cara belajarnya: bagaimana dia tahu kalau prediksinya salah, dan bagaimana cara dia memperbaiki diri.\n",
        "\n",
        "5. Pasang Pengawas Belajar: Dipasang dua \"pengawas\" saat model belajar. Pengawas pertama menghentikan belajar kalau modelnya sudah tidak makin pintar lagi di data uji (supaya tidak buang waktu dan tidak overfitting). Pengawas kedua menurunkan kecepatan belajar kalau modelnya mulai susah meningkat pintarnya (supaya bisa mencari hasil yang lebih baik).\n",
        "\n",
        "6. Mulai Belajar: Akhirnya, model diperintahkan untuk mulai belajar menggunakan data latih yang sudah disiapkan, sambil diawasi oleh pengawas-pengawas tadi menggunakan data uji. Proses ini akan terus berjalan sampai model dianggap cukup pintar atau sampai dihentikan oleh pengawas.\n",
        "\n",
        "Jadi, intinya, kode ini menyiapkan gambar-gambar emosi, membuat \"otak\" pintar (model CNN) yang bisa \"melihat\" pola di gambar, mengatur cara belajar model itu, dan membiarkan model belajar di bawah pengawasan agar hasilnya maksimal."
      ],
      "metadata": {
        "id": "rupDiXrWjAq1"
      }
    },
    {
      "cell_type": "markdown",
      "source": [
        "# 5. IMAGE DATA GENERATOR"
      ],
      "metadata": {
        "id": "5nZw4G04bgJc"
      }
    },
    {
      "cell_type": "markdown",
      "source": [
        "## 5.1 Membuat Training Image Data Generator"
      ],
      "metadata": {
        "id": "AnhIZpQ9kK7y"
      }
    },
    {
      "cell_type": "code",
      "source": [
        "# Create a data generator with augmentation\n",
        "train_data_generator = ImageDataGenerator(\n",
        "    rescale=1./255,\n",
        "    rotation_range=10,  # Dikurangi dari 15 ke 10\n",
        "    width_shift_range=0.1,  # Dikurangi dari 0.15 ke 0.1\n",
        "    height_shift_range=0.1,\n",
        "    shear_range=0.1,\n",
        "    zoom_range=0.1,\n",
        "    horizontal_flip=True,\n",
        "    fill_mode='nearest'\n",
        ")\n",
        "\n",
        "# Load images from the directory and apply the defined transformations\n",
        "fer_training_data = train_data_generator.flow_from_directory(\n",
        "    train_dir,\n",
        "    target_size=(48, 48),\n",
        "    batch_size=32,  # Dikurangi dari 64 ke 32 untuk stabilitas\n",
        "    color_mode='grayscale',\n",
        "    class_mode='categorical',\n",
        "    shuffle=True,\n",
        "    seed=42\n",
        ")\n",
        "\n",
        "fer_training_data\n",
        "\n",
        "# batch_size = fer_training_data.batch_size\n",
        "# total_batches = 0\n",
        "# total_images_seen = 0\n",
        "\n",
        "# # Misal kamu mau iterasi 1 epoch (semua data asli sekali lewat)\n",
        "# steps_per_epoch = len(fer_training_data)  # jumlah batch per epoch (jumlah gambar asli / batch size)\n",
        "\n",
        "# fer_training_data.reset()\n",
        "\n",
        "# for _ in range(steps_per_epoch):\n",
        "#     images, labels = next(fer_training_data)\n",
        "#     total_batches += 1\n",
        "#     total_images_seen += images.shape[0]  # batch size, bisa kurang di batch terakhir\n",
        "\n",
        "# print(f\"Total batch di epoch ini: {total_batches}\")\n",
        "# print(f\"Total gambar augmentasi yang sudah di-generate selama epoch: {total_images_seen}\")\n",
        "\n"
      ],
      "metadata": {
        "colab": {
          "base_uri": "https://localhost:8080/"
        },
        "id": "QfDGMt4PbvaL",
        "outputId": "2156370f-d47b-479c-e52f-295a01c765b6"
      },
      "execution_count": null,
      "outputs": [
        {
          "output_type": "stream",
          "name": "stdout",
          "text": [
            "Found 783 images belonging to 7 classes.\n"
          ]
        },
        {
          "output_type": "execute_result",
          "data": {
            "text/plain": [
              "<keras.src.legacy.preprocessing.image.DirectoryIterator at 0x7950eb9cdd90>"
            ]
          },
          "metadata": {},
          "execution_count": 9
        }
      ]
    },
    {
      "cell_type": "markdown",
      "source": [
        "ImageDataGenerator ini digunakan untuk augmentasi data secara real-time, yaitu menghasilkan versi berbeda dari gambar yang sama selama training berlangsung. Ini sangat penting terutama saat ukuran dataset kecil seperti CK+ (hanya 981 gambar)."
      ],
      "metadata": {
        "id": "pM_Hj05ZcDvR"
      }
    },
    {
      "cell_type": "code",
      "source": [
        "import matplotlib.pyplot as plt\n",
        "\n",
        "# Ambil batch pertama dari data generator training\n",
        "images, labels = next(fer_training_data)\n",
        "\n",
        "# Menampilkan 9 gambar hasil augmentasi pertama\n",
        "plt.figure(figsize=(10,10))\n",
        "for i in range(9):\n",
        "    plt.subplot(3,3,i+1)\n",
        "    img = images[i].reshape(48,48)\n",
        "    plt.imshow(img, cmap='gray')\n",
        "    plt.axis('off')\n",
        "plt.suptitle(\"Contoh Gambar Setelah Augmentasi\")\n",
        "plt.show()\n"
      ],
      "metadata": {
        "colab": {
          "base_uri": "https://localhost:8080/",
          "height": 907
        },
        "id": "kbUxgrk9lorA",
        "outputId": "5618385d-e3c4-44e2-8d9d-3c2be5b5cc66"
      },
      "execution_count": null,
      "outputs": [
        {
          "output_type": "display_data",
          "data": {
            "text/plain": [
              "<Figure size 1000x1000 with 9 Axes>"
            ],
            "image/png": "[encoded data removed]"
          },
          "metadata": {}
        }
      ]
    },
    {
      "cell_type": "code",
      "source": [
        "# Cek indeks label\n",
        "print(fer_training_data.class_indices)"
      ],
      "metadata": {
        "colab": {
          "base_uri": "https://localhost:8080/"
        },
        "id": "N-q0bqNrfDWF",
        "outputId": "9c43abdc-daf8-4fc7-c263-f0c2bb3ab5ad"
      },
      "execution_count": null,
      "outputs": [
        {
          "output_type": "stream",
          "name": "stdout",
          "text": [
            "{'anger': 0, 'contempt': 1, 'disgust': 2, 'fear': 3, 'happy': 4, 'sadness': 5, 'surprise': 6}\n"
          ]
        }
      ]
    },
    {
      "cell_type": "markdown",
      "source": [
        "## 5.2 Membuat Test Image Data Generator"
      ],
      "metadata": {
        "id": "KImuwR6eclhJ"
      }
    },
    {
      "cell_type": "code",
      "source": [
        "# Initialize an ImageDataGenerator for test data with rescaling\n",
        "# Rescales images by dividing pixel values by 255 (normalization)\n",
        "test_data_generator = ImageDataGenerator(rescale=1./255)\n",
        "\n",
        "# Creates a data generator for the test dataset\n",
        "# flow_from_directory method loads images from a directory,\n",
        "# in this case, '/kaggle/working/CK+48_test'\n",
        "fer_test_data = test_data_generator.flow_from_directory(\n",
        "    '/content/CK+48_test',  # Directory path for test images\n",
        "    target_size = (48, 48),  # Resizes images to 48x48 pixels\n",
        "    batch_size = 64,  # Number of images to yield per batch\n",
        "    color_mode = 'grayscale',  # Specifies that images are in grayscale\n",
        "    class_mode = 'categorical',  # Images are classified categorically\n",
        "    shuffle=False\n",
        ")\n",
        "\n",
        "# fer_test_data is now a generator that yields batches of test images and their labels\n",
        "fer_test_data"
      ],
      "metadata": {
        "colab": {
          "base_uri": "https://localhost:8080/"
        },
        "id": "HjTQ0GopczxF",
        "outputId": "81404a38-a20e-4f1e-d8b2-d3110adf4897"
      },
      "execution_count": null,
      "outputs": [
        {
          "output_type": "stream",
          "name": "stdout",
          "text": [
            "Found 198 images belonging to 7 classes.\n"
          ]
        },
        {
          "output_type": "execute_result",
          "data": {
            "text/plain": [
              "<keras.src.legacy.preprocessing.image.DirectoryIterator at 0x7950eb9f87d0>"
            ]
          },
          "metadata": {},
          "execution_count": 12
        }
      ]
    },
    {
      "cell_type": "markdown",
      "source": [
        "Tahapan ini membuat generator (fer_test_data) dari folder berisi gambar uji, yang telah:\n",
        "\n",
        "* Di-resize ke ukuran 48x48 piksel,\n",
        "* Dinormalisasi (skala piksel jadi 0–1),\n",
        "* Dikonversi ke format grayscale,\n",
        "* Dan labelnya dikodekan secara kategorikal.\n",
        "\n",
        "Semua ini tanpa augmentasi, karena tujuannya adalah untuk menguji performa akhir model secara obyektif."
      ],
      "metadata": {
        "id": "4vr2kLmcc6w2"
      }
    },
    {
      "cell_type": "markdown",
      "source": [
        "# 6. PEMBANGUNAN MODEL"
      ],
      "metadata": {
        "id": "Dhhkk2cckbJA"
      }
    },
    {
      "cell_type": "markdown",
      "source": [
        "## 6.1 Class Weight"
      ],
      "metadata": {
        "id": "SD9T5uQckfWc"
      }
    },
    {
      "cell_type": "code",
      "source": [
        "from sklearn.utils.class_weight import compute_class_weight\n",
        "# Hitung class weights untuk menangani imbalanced dataset\n",
        "class_names = list(fer_training_data.class_indices.keys())\n",
        "class_weights_values = compute_class_weight(\n",
        "    'balanced',\n",
        "    classes=np.unique(fer_training_data.classes),\n",
        "    y=fer_training_data.classes\n",
        ")\n",
        "class_weights = dict(zip(range(len(class_names)), class_weights_values))\n",
        "\n",
        "print(\"\\nClass weights untuk menangani imbalanced dataset:\")\n",
        "for i, (class_name, weight) in enumerate(zip(class_names, class_weights_values)):\n",
        "    print(f\"{class_name}: {weight:.4f}\")"
      ],
      "metadata": {
        "colab": {
          "base_uri": "https://localhost:8080/"
        },
        "id": "tiuf76zvCIi6",
        "outputId": "75397835-3250-43c4-f3c0-5f5caab72417"
      },
      "execution_count": null,
      "outputs": [
        {
          "output_type": "stream",
          "name": "stdout",
          "text": [
            "\n",
            "Class weights untuk menangani imbalanced dataset:\n",
            "anger: 1.0357\n",
            "contempt: 2.6013\n",
            "disgust: 0.7933\n",
            "fear: 1.8643\n",
            "happy: 0.6779\n",
            "sadness: 1.6695\n",
            "surprise: 0.5621\n"
          ]
        }
      ]
    },
    {
      "cell_type": "markdown",
      "source": [
        "## 6.2 Optimalisasi"
      ],
      "metadata": {
        "id": "aWqCl4Fndsr5"
      }
    },
    {
      "cell_type": "code",
      "source": [
        "# Importing the optimizers module from TensorFlow's Keras library\n",
        "from tensorflow.keras import optimizers\n",
        "\n",
        "# Initializing a list of optimizers with specific configurations\n",
        "optims = [\n",
        "    optimizers.Nadam(learning_rate=0.001, beta_1=0.9, beta_2=0.999, epsilon=1e-07, name='Nadam'),\n",
        "    optimizers.Adam(0.001),\n",
        "]"
      ],
      "metadata": {
        "id": "hp6DfxZvdGEI"
      },
      "execution_count": null,
      "outputs": []
    },
    {
      "cell_type": "markdown",
      "source": [
        "Algoritma ini, yang disebut optimizer, bertugas mengatur bagaimana model belajar dengan menyesuaikan parameter-parameternya (seperti bobot) berdasarkan data pelatihan, agar model bisa memprediksi dengan lebih akurat.\n",
        "\n",
        "Jadi, ini adalah langkah untuk memilih \"metode belajar\" yang akan digunakan model nanti."
      ],
      "metadata": {
        "id": "FqS2VR6beKQo"
      }
    },
    {
      "cell_type": "markdown",
      "source": [
        "# *Clear Session"
      ],
      "metadata": {
        "id": "nkBeuIVskqcG"
      }
    },
    {
      "cell_type": "code",
      "source": [
        "# from tensorflow.keras import backend as K\n",
        "\n",
        "# # Misal model sudah dibuat dan dipakai, lalu ingin clear\n",
        "# K.clear_session()\n"
      ],
      "metadata": {
        "id": "eSfu7r15fY2j"
      },
      "execution_count": null,
      "outputs": []
    },
    {
      "cell_type": "markdown",
      "source": [
        "# 6.3 Perancangan Arsitektur Model CNN"
      ],
      "metadata": {
        "id": "d6YFBhhAfJho"
      }
    },
    {
      "cell_type": "code",
      "source": [
        "from keras.models import Sequential\n",
        "from keras.layers import Conv2D, MaxPooling2D, Flatten, Dense, Dropout\n",
        "\n",
        "model = Sequential()\n",
        "\n",
        "model.add(\n",
        "        Conv2D(\n",
        "            filters=512,\n",
        "            kernel_size=(5,5),\n",
        "            input_shape=(48, 48, 1),\n",
        "            activation='elu',\n",
        "            padding='same',\n",
        "            kernel_initializer='he_normal',\n",
        "            name='conv2d_1'\n",
        "        )\n",
        "    )\n",
        "model.add(BatchNormalization(name='batchnorm_1'))\n",
        "model.add(\n",
        "        Conv2D(\n",
        "            filters=256,\n",
        "            kernel_size=(5,5),\n",
        "            activation='elu',\n",
        "            padding='same',\n",
        "            kernel_initializer='he_normal',\n",
        "            name='conv2d_2'\n",
        "        )\n",
        "    )\n",
        "model.add(BatchNormalization(name='batchnorm_2'))\n",
        "\n",
        "model.add(MaxPooling2D(pool_size=(2,2), name='maxpool2d_1'))\n",
        "model.add(Dropout(0.25, name='dropout_1'))\n",
        "\n",
        "model.add(\n",
        "        Conv2D(\n",
        "            filters=128,\n",
        "            kernel_size=(3,3),\n",
        "            activation='elu',\n",
        "            padding='same',\n",
        "            kernel_initializer='he_normal',\n",
        "            name='conv2d_3'\n",
        "        )\n",
        "    )\n",
        "model.add(BatchNormalization(name='batchnorm_3'))\n",
        "model.add(\n",
        "        Conv2D(\n",
        "            filters=128,\n",
        "            kernel_size=(3,3),\n",
        "            activation='elu',\n",
        "            padding='same',\n",
        "            kernel_initializer='he_normal',\n",
        "            name='conv2d_4'\n",
        "        )\n",
        "    )\n",
        "model.add(BatchNormalization(name='batchnorm_4'))\n",
        "\n",
        "model.add(MaxPooling2D(pool_size=(2,2), name='maxpool2d_2'))\n",
        "model.add(Dropout(0.25, name='dropout_2'))\n",
        "\n",
        "model.add(\n",
        "        Conv2D(\n",
        "            filters=256,\n",
        "            kernel_size=(3,3),\n",
        "            activation='elu',\n",
        "            padding='same',\n",
        "            kernel_initializer='he_normal',\n",
        "            name='conv2d_5'\n",
        "        )\n",
        "    )\n",
        "model.add(BatchNormalization(name='batchnorm_5'))\n",
        "model.add(\n",
        "        Conv2D(\n",
        "            filters=512,\n",
        "            kernel_size=(3,3),\n",
        "            activation='elu',\n",
        "            padding='same',\n",
        "            kernel_initializer='he_normal',\n",
        "            name='conv2d_6'\n",
        "        )\n",
        "    )\n",
        "model.add(BatchNormalization(name='batchnorm_6'))\n",
        "\n",
        "model.add(MaxPooling2D(pool_size=(2,2), name='maxpool2d_3'))\n",
        "model.add(Dropout(0.25, name='dropout_3'))\n",
        "\n",
        "model.add(Flatten(name='flatten'))\n",
        "\n",
        "model.add(\n",
        "        Dense(\n",
        "            256,\n",
        "            activation='elu',\n",
        "            kernel_initializer='he_normal',\n",
        "            name='dense_1'\n",
        "        )\n",
        "    )\n",
        "model.add(BatchNormalization(name='batchnorm_7'))\n",
        "\n",
        "model.add(Dropout(0.25, name='dropout_4'))\n",
        "\n",
        "model.add(\n",
        "        Dense(\n",
        "            7,\n",
        "            activation='softmax',\n",
        "            name='out_layer'\n",
        "        )\n",
        "    )\n",
        "\n",
        "model.compile(\n",
        "        loss='categorical_crossentropy',\n",
        "        optimizer='adam',\n",
        "        metrics=['accuracy']\n",
        "    )\n",
        "\n",
        "model.summary()"
      ],
      "metadata": {
        "colab": {
          "base_uri": "https://localhost:8080/",
          "height": 1000
        },
        "id": "hRPDJMPOfTLg",
        "outputId": "a7d9d992-93ec-4c12-faa3-bee19d539821"
      },
      "execution_count": null,
      "outputs": [
        {
          "output_type": "stream",
          "name": "stderr",
          "text": [
            "/usr/local/lib/python3.11/dist-packages/keras/src/layers/convolutional/base_conv.py:107: UserWarning: Do not pass an `input_shape`/`input_dim` argument to a layer. When using Sequential models, prefer using an `Input(shape)` object as the first layer in the model instead.\n",
            "  super().__init__(activity_regularizer=activity_regularizer, **kwargs)\n"
          ]
        },
        {
          "output_type": "display_data",
          "data": {
            "text/plain": [
              "\u001b[1mModel: \"sequential\"\u001b[0m\n"
            ],
            "text/html": [
              "<pre style=\"white-space:pre;overflow-x:auto;line-height:normal;font-family:Menlo,'DejaVu Sans Mono',consolas,'Courier New',monospace\"><span style=\"font-weight: bold\">Model: \"sequential\"</span>\n",
              "</pre>\n"
            ]
          },
          "metadata": {}
        },
        {
          "output_type": "display_data",
          "data": {
            "text/plain": [
              "┏━━━━━━━━━━━━━━━━━━━━━━━━━━━━━━━━━┳━━━━━━━━━━━━━━━━━━━━━━━━┳━━━━━━━━━━━━━━━┓\n",
              "┃\u001b[1m \u001b[0m\u001b[1mLayer (type)                   \u001b[0m\u001b[1m \u001b[0m┃\u001b[1m \u001b[0m\u001b[1mOutput Shape          \u001b[0m\u001b[1m \u001b[0m┃\u001b[1m \u001b[0m\u001b[1m      Param #\u001b[0m\u001b[1m \u001b[0m┃\n",
              "┡━━━━━━━━━━━━━━━━━━━━━━━━━━━━━━━━━╇━━━━━━━━━━━━━━━━━━━━━━━━╇━━━━━━━━━━━━━━━┩\n",
              "│ conv2d_1 (\u001b[38;5;33mConv2D\u001b[0m)               │ (\u001b[38;5;45mNone\u001b[0m, \u001b[38;5;34m48\u001b[0m, \u001b[38;5;34m48\u001b[0m, \u001b[38;5;34m512\u001b[0m)    │        \u001b[38;5;34m13,312\u001b[0m │\n",
              "├─────────────────────────────────┼────────────────────────┼───────────────┤\n",
              "│ batchnorm_1                     │ (\u001b[38;5;45mNone\u001b[0m, \u001b[38;5;34m48\u001b[0m, \u001b[38;5;34m48\u001b[0m, \u001b[38;5;34m512\u001b[0m)    │         \u001b[38;5;34m2,048\u001b[0m │\n",
              "│ (\u001b[38;5;33mBatchNormalization\u001b[0m)            │                        │               │\n",
              "├─────────────────────────────────┼────────────────────────┼───────────────┤\n",
              "│ conv2d_2 (\u001b[38;5;33mConv2D\u001b[0m)               │ (\u001b[38;5;45mNone\u001b[0m, \u001b[38;5;34m48\u001b[0m, \u001b[38;5;34m48\u001b[0m, \u001b[38;5;34m256\u001b[0m)    │     \u001b[38;5;34m3,277,056\u001b[0m │\n",
              "├─────────────────────────────────┼────────────────────────┼───────────────┤\n",
              "│ batchnorm_2                     │ (\u001b[38;5;45mNone\u001b[0m, \u001b[38;5;34m48\u001b[0m, \u001b[38;5;34m48\u001b[0m, \u001b[38;5;34m256\u001b[0m)    │         \u001b[38;5;34m1,024\u001b[0m │\n",
              "│ (\u001b[38;5;33mBatchNormalization\u001b[0m)            │                        │               │\n",
              "├─────────────────────────────────┼────────────────────────┼───────────────┤\n",
              "│ maxpool2d_1 (\u001b[38;5;33mMaxPooling2D\u001b[0m)      │ (\u001b[38;5;45mNone\u001b[0m, \u001b[38;5;34m24\u001b[0m, \u001b[38;5;34m24\u001b[0m, \u001b[38;5;34m256\u001b[0m)    │             \u001b[38;5;34m0\u001b[0m │\n",
              "├─────────────────────────────────┼────────────────────────┼───────────────┤\n",
              "│ dropout_1 (\u001b[38;5;33mDropout\u001b[0m)             │ (\u001b[38;5;45mNone\u001b[0m, \u001b[38;5;34m24\u001b[0m, \u001b[38;5;34m24\u001b[0m, \u001b[38;5;34m256\u001b[0m)    │             \u001b[38;5;34m0\u001b[0m │\n",
              "├─────────────────────────────────┼────────────────────────┼───────────────┤\n",
              "│ conv2d_3 (\u001b[38;5;33mConv2D\u001b[0m)               │ (\u001b[38;5;45mNone\u001b[0m, \u001b[38;5;34m24\u001b[0m, \u001b[38;5;34m24\u001b[0m, \u001b[38;5;34m128\u001b[0m)    │       \u001b[38;5;34m295,040\u001b[0m │\n",
              "├─────────────────────────────────┼────────────────────────┼───────────────┤\n",
              "│ batchnorm_3                     │ (\u001b[38;5;45mNone\u001b[0m, \u001b[38;5;34m24\u001b[0m, \u001b[38;5;34m24\u001b[0m, \u001b[38;5;34m128\u001b[0m)    │           \u001b[38;5;34m512\u001b[0m │\n",
              "│ (\u001b[38;5;33mBatchNormalization\u001b[0m)            │                        │               │\n",
              "├─────────────────────────────────┼────────────────────────┼───────────────┤\n",
              "│ conv2d_4 (\u001b[38;5;33mConv2D\u001b[0m)               │ (\u001b[38;5;45mNone\u001b[0m, \u001b[38;5;34m24\u001b[0m, \u001b[38;5;34m24\u001b[0m, \u001b[38;5;34m128\u001b[0m)    │       \u001b[38;5;34m147,584\u001b[0m │\n",
              "├─────────────────────────────────┼────────────────────────┼───────────────┤\n",
              "│ batchnorm_4                     │ (\u001b[38;5;45mNone\u001b[0m, \u001b[38;5;34m24\u001b[0m, \u001b[38;5;34m24\u001b[0m, \u001b[38;5;34m128\u001b[0m)    │           \u001b[38;5;34m512\u001b[0m │\n",
              "│ (\u001b[38;5;33mBatchNormalization\u001b[0m)            │                        │               │\n",
              "├─────────────────────────────────┼────────────────────────┼───────────────┤\n",
              "│ maxpool2d_2 (\u001b[38;5;33mMaxPooling2D\u001b[0m)      │ (\u001b[38;5;45mNone\u001b[0m, \u001b[38;5;34m12\u001b[0m, \u001b[38;5;34m12\u001b[0m, \u001b[38;5;34m128\u001b[0m)    │             \u001b[38;5;34m0\u001b[0m │\n",
              "├─────────────────────────────────┼────────────────────────┼───────────────┤\n",
              "│ dropout_2 (\u001b[38;5;33mDropout\u001b[0m)             │ (\u001b[38;5;45mNone\u001b[0m, \u001b[38;5;34m12\u001b[0m, \u001b[38;5;34m12\u001b[0m, \u001b[38;5;34m128\u001b[0m)    │             \u001b[38;5;34m0\u001b[0m │\n",
              "├─────────────────────────────────┼────────────────────────┼───────────────┤\n",
              "│ conv2d_5 (\u001b[38;5;33mConv2D\u001b[0m)               │ (\u001b[38;5;45mNone\u001b[0m, \u001b[38;5;34m12\u001b[0m, \u001b[38;5;34m12\u001b[0m, \u001b[38;5;34m256\u001b[0m)    │       \u001b[38;5;34m295,168\u001b[0m │\n",
              "├─────────────────────────────────┼────────────────────────┼───────────────┤\n",
              "│ batchnorm_5                     │ (\u001b[38;5;45mNone\u001b[0m, \u001b[38;5;34m12\u001b[0m, \u001b[38;5;34m12\u001b[0m, \u001b[38;5;34m256\u001b[0m)    │         \u001b[38;5;34m1,024\u001b[0m │\n",
              "│ (\u001b[38;5;33mBatchNormalization\u001b[0m)            │                        │               │\n",
              "├─────────────────────────────────┼────────────────────────┼───────────────┤\n",
              "│ conv2d_6 (\u001b[38;5;33mConv2D\u001b[0m)               │ (\u001b[38;5;45mNone\u001b[0m, \u001b[38;5;34m12\u001b[0m, \u001b[38;5;34m12\u001b[0m, \u001b[38;5;34m512\u001b[0m)    │     \u001b[38;5;34m1,180,160\u001b[0m │\n",
              "├─────────────────────────────────┼────────────────────────┼───────────────┤\n",
              "│ batchnorm_6                     │ (\u001b[38;5;45mNone\u001b[0m, \u001b[38;5;34m12\u001b[0m, \u001b[38;5;34m12\u001b[0m, \u001b[38;5;34m512\u001b[0m)    │         \u001b[38;5;34m2,048\u001b[0m │\n",
              "│ (\u001b[38;5;33mBatchNormalization\u001b[0m)            │                        │               │\n",
              "├─────────────────────────────────┼────────────────────────┼───────────────┤\n",
              "│ maxpool2d_3 (\u001b[38;5;33mMaxPooling2D\u001b[0m)      │ (\u001b[38;5;45mNone\u001b[0m, \u001b[38;5;34m6\u001b[0m, \u001b[38;5;34m6\u001b[0m, \u001b[38;5;34m512\u001b[0m)      │             \u001b[38;5;34m0\u001b[0m │\n",
              "├─────────────────────────────────┼────────────────────────┼───────────────┤\n",
              "│ dropout_3 (\u001b[38;5;33mDropout\u001b[0m)             │ (\u001b[38;5;45mNone\u001b[0m, \u001b[38;5;34m6\u001b[0m, \u001b[38;5;34m6\u001b[0m, \u001b[38;5;34m512\u001b[0m)      │             \u001b[38;5;34m0\u001b[0m │\n",
              "├─────────────────────────────────┼────────────────────────┼───────────────┤\n",
              "│ flatten (\u001b[38;5;33mFlatten\u001b[0m)               │ (\u001b[38;5;45mNone\u001b[0m, \u001b[38;5;34m18432\u001b[0m)          │             \u001b[38;5;34m0\u001b[0m │\n",
              "├─────────────────────────────────┼────────────────────────┼───────────────┤\n",
              "│ dense_1 (\u001b[38;5;33mDense\u001b[0m)                 │ (\u001b[38;5;45mNone\u001b[0m, \u001b[38;5;34m256\u001b[0m)            │     \u001b[38;5;34m4,718,848\u001b[0m │\n",
              "├─────────────────────────────────┼────────────────────────┼───────────────┤\n",
              "│ batchnorm_7                     │ (\u001b[38;5;45mNone\u001b[0m, \u001b[38;5;34m256\u001b[0m)            │         \u001b[38;5;34m1,024\u001b[0m │\n",
              "│ (\u001b[38;5;33mBatchNormalization\u001b[0m)            │                        │               │\n",
              "├─────────────────────────────────┼────────────────────────┼───────────────┤\n",
              "│ dropout_4 (\u001b[38;5;33mDropout\u001b[0m)             │ (\u001b[38;5;45mNone\u001b[0m, \u001b[38;5;34m256\u001b[0m)            │             \u001b[38;5;34m0\u001b[0m │\n",
              "├─────────────────────────────────┼────────────────────────┼───────────────┤\n",
              "│ out_layer (\u001b[38;5;33mDense\u001b[0m)               │ (\u001b[38;5;45mNone\u001b[0m, \u001b[38;5;34m7\u001b[0m)              │         \u001b[38;5;34m1,799\u001b[0m │\n",
              "└─────────────────────────────────┴────────────────────────┴───────────────┘\n"
            ],
            "text/html": [
              "<pre style=\"white-space:pre;overflow-x:auto;line-height:normal;font-family:Menlo,'DejaVu Sans Mono',consolas,'Courier New',monospace\">┏━━━━━━━━━━━━━━━━━━━━━━━━━━━━━━━━━┳━━━━━━━━━━━━━━━━━━━━━━━━┳━━━━━━━━━━━━━━━┓\n",
              "┃<span style=\"font-weight: bold\"> Layer (type)                    </span>┃<span style=\"font-weight: bold\"> Output Shape           </span>┃<span style=\"font-weight: bold\">       Param # </span>┃\n",
              "┡━━━━━━━━━━━━━━━━━━━━━━━━━━━━━━━━━╇━━━━━━━━━━━━━━━━━━━━━━━━╇━━━━━━━━━━━━━━━┩\n",
              "│ conv2d_1 (<span style=\"color: #0087ff; text-decoration-color: #0087ff\">Conv2D</span>)               │ (<span style=\"color: #00d7ff; text-decoration-color: #00d7ff\">None</span>, <span style=\"color: #00af00; text-decoration-color: #00af00\">48</span>, <span style=\"color: #00af00; text-decoration-color: #00af00\">48</span>, <span style=\"color: #00af00; text-decoration-color: #00af00\">512</span>)    │        <span style=\"color: #00af00; text-decoration-color: #00af00\">13,312</span> │\n",
              "├─────────────────────────────────┼────────────────────────┼───────────────┤\n",
              "│ batchnorm_1                     │ (<span style=\"color: #00d7ff; text-decoration-color: #00d7ff\">None</span>, <span style=\"color: #00af00; text-decoration-color: #00af00\">48</span>, <span style=\"color: #00af00; text-decoration-color: #00af00\">48</span>, <span style=\"color: #00af00; text-decoration-color: #00af00\">512</span>)    │         <span style=\"color: #00af00; text-decoration-color: #00af00\">2,048</span> │\n",
              "│ (<span style=\"color: #0087ff; text-decoration-color: #0087ff\">BatchNormalization</span>)            │                        │               │\n",
              "├─────────────────────────────────┼────────────────────────┼───────────────┤\n",
              "│ conv2d_2 (<span style=\"color: #0087ff; text-decoration-color: #0087ff\">Conv2D</span>)               │ (<span style=\"color: #00d7ff; text-decoration-color: #00d7ff\">None</span>, <span style=\"color: #00af00; text-decoration-color: #00af00\">48</span>, <span style=\"color: #00af00; text-decoration-color: #00af00\">48</span>, <span style=\"color: #00af00; text-decoration-color: #00af00\">256</span>)    │     <span style=\"color: #00af00; text-decoration-color: #00af00\">3,277,056</span> │\n",
              "├─────────────────────────────────┼────────────────────────┼───────────────┤\n",
              "│ batchnorm_2                     │ (<span style=\"color: #00d7ff; text-decoration-color: #00d7ff\">None</span>, <span style=\"color: #00af00; text-decoration-color: #00af00\">48</span>, <span style=\"color: #00af00; text-decoration-color: #00af00\">48</span>, <span style=\"color: #00af00; text-decoration-color: #00af00\">256</span>)    │         <span style=\"color: #00af00; text-decoration-color: #00af00\">1,024</span> │\n",
              "│ (<span style=\"color: #0087ff; text-decoration-color: #0087ff\">BatchNormalization</span>)            │                        │               │\n",
              "├─────────────────────────────────┼────────────────────────┼───────────────┤\n",
              "│ maxpool2d_1 (<span style=\"color: #0087ff; text-decoration-color: #0087ff\">MaxPooling2D</span>)      │ (<span style=\"color: #00d7ff; text-decoration-color: #00d7ff\">None</span>, <span style=\"color: #00af00; text-decoration-color: #00af00\">24</span>, <span style=\"color: #00af00; text-decoration-color: #00af00\">24</span>, <span style=\"color: #00af00; text-decoration-color: #00af00\">256</span>)    │             <span style=\"color: #00af00; text-decoration-color: #00af00\">0</span> │\n",
              "├─────────────────────────────────┼────────────────────────┼───────────────┤\n",
              "│ dropout_1 (<span style=\"color: #0087ff; text-decoration-color: #0087ff\">Dropout</span>)             │ (<span style=\"color: #00d7ff; text-decoration-color: #00d7ff\">None</span>, <span style=\"color: #00af00; text-decoration-color: #00af00\">24</span>, <span style=\"color: #00af00; text-decoration-color: #00af00\">24</span>, <span style=\"color: #00af00; text-decoration-color: #00af00\">256</span>)    │             <span style=\"color: #00af00; text-decoration-color: #00af00\">0</span> │\n",
              "├─────────────────────────────────┼────────────────────────┼───────────────┤\n",
              "│ conv2d_3 (<span style=\"color: #0087ff; text-decoration-color: #0087ff\">Conv2D</span>)               │ (<span style=\"color: #00d7ff; text-decoration-color: #00d7ff\">None</span>, <span style=\"color: #00af00; text-decoration-color: #00af00\">24</span>, <span style=\"color: #00af00; text-decoration-color: #00af00\">24</span>, <span style=\"color: #00af00; text-decoration-color: #00af00\">128</span>)    │       <span style=\"color: #00af00; text-decoration-color: #00af00\">295,040</span> │\n",
              "├─────────────────────────────────┼────────────────────────┼───────────────┤\n",
              "│ batchnorm_3                     │ (<span style=\"color: #00d7ff; text-decoration-color: #00d7ff\">None</span>, <span style=\"color: #00af00; text-decoration-color: #00af00\">24</span>, <span style=\"color: #00af00; text-decoration-color: #00af00\">24</span>, <span style=\"color: #00af00; text-decoration-color: #00af00\">128</span>)    │           <span style=\"color: #00af00; text-decoration-color: #00af00\">512</span> │\n",
              "│ (<span style=\"color: #0087ff; text-decoration-color: #0087ff\">BatchNormalization</span>)            │                        │               │\n",
              "├─────────────────────────────────┼────────────────────────┼───────────────┤\n",
              "│ conv2d_4 (<span style=\"color: #0087ff; text-decoration-color: #0087ff\">Conv2D</span>)               │ (<span style=\"color: #00d7ff; text-decoration-color: #00d7ff\">None</span>, <span style=\"color: #00af00; text-decoration-color: #00af00\">24</span>, <span style=\"color: #00af00; text-decoration-color: #00af00\">24</span>, <span style=\"color: #00af00; text-decoration-color: #00af00\">128</span>)    │       <span style=\"color: #00af00; text-decoration-color: #00af00\">147,584</span> │\n",
              "├─────────────────────────────────┼────────────────────────┼───────────────┤\n",
              "│ batchnorm_4                     │ (<span style=\"color: #00d7ff; text-decoration-color: #00d7ff\">None</span>, <span style=\"color: #00af00; text-decoration-color: #00af00\">24</span>, <span style=\"color: #00af00; text-decoration-color: #00af00\">24</span>, <span style=\"color: #00af00; text-decoration-color: #00af00\">128</span>)    │           <span style=\"color: #00af00; text-decoration-color: #00af00\">512</span> │\n",
              "│ (<span style=\"color: #0087ff; text-decoration-color: #0087ff\">BatchNormalization</span>)            │                        │               │\n",
              "├─────────────────────────────────┼────────────────────────┼───────────────┤\n",
              "│ maxpool2d_2 (<span style=\"color: #0087ff; text-decoration-color: #0087ff\">MaxPooling2D</span>)      │ (<span style=\"color: #00d7ff; text-decoration-color: #00d7ff\">None</span>, <span style=\"color: #00af00; text-decoration-color: #00af00\">12</span>, <span style=\"color: #00af00; text-decoration-color: #00af00\">12</span>, <span style=\"color: #00af00; text-decoration-color: #00af00\">128</span>)    │             <span style=\"color: #00af00; text-decoration-color: #00af00\">0</span> │\n",
              "├─────────────────────────────────┼────────────────────────┼───────────────┤\n",
              "│ dropout_2 (<span style=\"color: #0087ff; text-decoration-color: #0087ff\">Dropout</span>)             │ (<span style=\"color: #00d7ff; text-decoration-color: #00d7ff\">None</span>, <span style=\"color: #00af00; text-decoration-color: #00af00\">12</span>, <span style=\"color: #00af00; text-decoration-color: #00af00\">12</span>, <span style=\"color: #00af00; text-decoration-color: #00af00\">128</span>)    │             <span style=\"color: #00af00; text-decoration-color: #00af00\">0</span> │\n",
              "├─────────────────────────────────┼────────────────────────┼───────────────┤\n",
              "│ conv2d_5 (<span style=\"color: #0087ff; text-decoration-color: #0087ff\">Conv2D</span>)               │ (<span style=\"color: #00d7ff; text-decoration-color: #00d7ff\">None</span>, <span style=\"color: #00af00; text-decoration-color: #00af00\">12</span>, <span style=\"color: #00af00; text-decoration-color: #00af00\">12</span>, <span style=\"color: #00af00; text-decoration-color: #00af00\">256</span>)    │       <span style=\"color: #00af00; text-decoration-color: #00af00\">295,168</span> │\n",
              "├─────────────────────────────────┼────────────────────────┼───────────────┤\n",
              "│ batchnorm_5                     │ (<span style=\"color: #00d7ff; text-decoration-color: #00d7ff\">None</span>, <span style=\"color: #00af00; text-decoration-color: #00af00\">12</span>, <span style=\"color: #00af00; text-decoration-color: #00af00\">12</span>, <span style=\"color: #00af00; text-decoration-color: #00af00\">256</span>)    │         <span style=\"color: #00af00; text-decoration-color: #00af00\">1,024</span> │\n",
              "│ (<span style=\"color: #0087ff; text-decoration-color: #0087ff\">BatchNormalization</span>)            │                        │               │\n",
              "├─────────────────────────────────┼────────────────────────┼───────────────┤\n",
              "│ conv2d_6 (<span style=\"color: #0087ff; text-decoration-color: #0087ff\">Conv2D</span>)               │ (<span style=\"color: #00d7ff; text-decoration-color: #00d7ff\">None</span>, <span style=\"color: #00af00; text-decoration-color: #00af00\">12</span>, <span style=\"color: #00af00; text-decoration-color: #00af00\">12</span>, <span style=\"color: #00af00; text-decoration-color: #00af00\">512</span>)    │     <span style=\"color: #00af00; text-decoration-color: #00af00\">1,180,160</span> │\n",
              "├─────────────────────────────────┼────────────────────────┼───────────────┤\n",
              "│ batchnorm_6                     │ (<span style=\"color: #00d7ff; text-decoration-color: #00d7ff\">None</span>, <span style=\"color: #00af00; text-decoration-color: #00af00\">12</span>, <span style=\"color: #00af00; text-decoration-color: #00af00\">12</span>, <span style=\"color: #00af00; text-decoration-color: #00af00\">512</span>)    │         <span style=\"color: #00af00; text-decoration-color: #00af00\">2,048</span> │\n",
              "│ (<span style=\"color: #0087ff; text-decoration-color: #0087ff\">BatchNormalization</span>)            │                        │               │\n",
              "├─────────────────────────────────┼────────────────────────┼───────────────┤\n",
              "│ maxpool2d_3 (<span style=\"color: #0087ff; text-decoration-color: #0087ff\">MaxPooling2D</span>)      │ (<span style=\"color: #00d7ff; text-decoration-color: #00d7ff\">None</span>, <span style=\"color: #00af00; text-decoration-color: #00af00\">6</span>, <span style=\"color: #00af00; text-decoration-color: #00af00\">6</span>, <span style=\"color: #00af00; text-decoration-color: #00af00\">512</span>)      │             <span style=\"color: #00af00; text-decoration-color: #00af00\">0</span> │\n",
              "├─────────────────────────────────┼────────────────────────┼───────────────┤\n",
              "│ dropout_3 (<span style=\"color: #0087ff; text-decoration-color: #0087ff\">Dropout</span>)             │ (<span style=\"color: #00d7ff; text-decoration-color: #00d7ff\">None</span>, <span style=\"color: #00af00; text-decoration-color: #00af00\">6</span>, <span style=\"color: #00af00; text-decoration-color: #00af00\">6</span>, <span style=\"color: #00af00; text-decoration-color: #00af00\">512</span>)      │             <span style=\"color: #00af00; text-decoration-color: #00af00\">0</span> │\n",
              "├─────────────────────────────────┼────────────────────────┼───────────────┤\n",
              "│ flatten (<span style=\"color: #0087ff; text-decoration-color: #0087ff\">Flatten</span>)               │ (<span style=\"color: #00d7ff; text-decoration-color: #00d7ff\">None</span>, <span style=\"color: #00af00; text-decoration-color: #00af00\">18432</span>)          │             <span style=\"color: #00af00; text-decoration-color: #00af00\">0</span> │\n",
              "├─────────────────────────────────┼────────────────────────┼───────────────┤\n",
              "│ dense_1 (<span style=\"color: #0087ff; text-decoration-color: #0087ff\">Dense</span>)                 │ (<span style=\"color: #00d7ff; text-decoration-color: #00d7ff\">None</span>, <span style=\"color: #00af00; text-decoration-color: #00af00\">256</span>)            │     <span style=\"color: #00af00; text-decoration-color: #00af00\">4,718,848</span> │\n",
              "├─────────────────────────────────┼────────────────────────┼───────────────┤\n",
              "│ batchnorm_7                     │ (<span style=\"color: #00d7ff; text-decoration-color: #00d7ff\">None</span>, <span style=\"color: #00af00; text-decoration-color: #00af00\">256</span>)            │         <span style=\"color: #00af00; text-decoration-color: #00af00\">1,024</span> │\n",
              "│ (<span style=\"color: #0087ff; text-decoration-color: #0087ff\">BatchNormalization</span>)            │                        │               │\n",
              "├─────────────────────────────────┼────────────────────────┼───────────────┤\n",
              "│ dropout_4 (<span style=\"color: #0087ff; text-decoration-color: #0087ff\">Dropout</span>)             │ (<span style=\"color: #00d7ff; text-decoration-color: #00d7ff\">None</span>, <span style=\"color: #00af00; text-decoration-color: #00af00\">256</span>)            │             <span style=\"color: #00af00; text-decoration-color: #00af00\">0</span> │\n",
              "├─────────────────────────────────┼────────────────────────┼───────────────┤\n",
              "│ out_layer (<span style=\"color: #0087ff; text-decoration-color: #0087ff\">Dense</span>)               │ (<span style=\"color: #00d7ff; text-decoration-color: #00d7ff\">None</span>, <span style=\"color: #00af00; text-decoration-color: #00af00\">7</span>)              │         <span style=\"color: #00af00; text-decoration-color: #00af00\">1,799</span> │\n",
              "└─────────────────────────────────┴────────────────────────┴───────────────┘\n",
              "</pre>\n"
            ]
          },
          "metadata": {}
        },
        {
          "output_type": "display_data",
          "data": {
            "text/plain": [
              "\u001b[1m Total params: \u001b[0m\u001b[38;5;34m9,937,159\u001b[0m (37.91 MB)\n"
            ],
            "text/html": [
              "<pre style=\"white-space:pre;overflow-x:auto;line-height:normal;font-family:Menlo,'DejaVu Sans Mono',consolas,'Courier New',monospace\"><span style=\"font-weight: bold\"> Total params: </span><span style=\"color: #00af00; text-decoration-color: #00af00\">9,937,159</span> (37.91 MB)\n",
              "</pre>\n"
            ]
          },
          "metadata": {}
        },
        {
          "output_type": "display_data",
          "data": {
            "text/plain": [
              "\u001b[1m Trainable params: \u001b[0m\u001b[38;5;34m9,933,063\u001b[0m (37.89 MB)\n"
            ],
            "text/html": [
              "<pre style=\"white-space:pre;overflow-x:auto;line-height:normal;font-family:Menlo,'DejaVu Sans Mono',consolas,'Courier New',monospace\"><span style=\"font-weight: bold\"> Trainable params: </span><span style=\"color: #00af00; text-decoration-color: #00af00\">9,933,063</span> (37.89 MB)\n",
              "</pre>\n"
            ]
          },
          "metadata": {}
        },
        {
          "output_type": "display_data",
          "data": {
            "text/plain": [
              "\u001b[1m Non-trainable params: \u001b[0m\u001b[38;5;34m4,096\u001b[0m (16.00 KB)\n"
            ],
            "text/html": [
              "<pre style=\"white-space:pre;overflow-x:auto;line-height:normal;font-family:Menlo,'DejaVu Sans Mono',consolas,'Courier New',monospace\"><span style=\"font-weight: bold\"> Non-trainable params: </span><span style=\"color: #00af00; text-decoration-color: #00af00\">4,096</span> (16.00 KB)\n",
              "</pre>\n"
            ]
          },
          "metadata": {}
        }
      ]
    },
    {
      "cell_type": "markdown",
      "source": [
        "Kode Python ini intinya melakukan langkah-langkah persiapan data dan pembuatan model untuk mengenali emosi dari gambar wajah.\n",
        "\n",
        "1. Persiapan Awal: Kode pertama-tama mengimpor semua alat yang dibutuhkan, seperti pustaka untuk mengolah data (numpy, pandas), gambar (cv2), mengelola file (os, shutil), dan membangun serta melatih jaringan saraf tiruan (tensorflow, keras). Beberapa pengaturan juga dibuat untuk mengabaikan peringatan yang tidak penting.\n",
        "\n",
        "2. Membagi Data Gambar: Dataset gambar emosi yang asli (di /kaggle/input/ckplus/CK+48) dipisahkan menjadi dua kelompok: 80% untuk melatih model (folder CK+48_train) dan 20% untuk menguji seberapa baik model bekerja setelah dilatih (folder CK+48_test). Proses ini memastikan model diuji pada gambar yang belum pernah dilihatnya saat pelatihan.\n",
        "\n",
        "3. Menyiapkan Data untuk Model (Generator Data): Kode membuat \"generator data\" untuk data pelatihan dan pengujian.\n",
        "  - Generator data pelatihan tidak hanya memuat gambar, tapi juga secara acak mengubah gambar sedikit (diputar, digeser, diperbesar/diperkecil) setiap kali model membutuhkan data. Ini disebut augmentasi data, tujuannya agar model belajar mengenali emosi meskipun gambarnya bervariasi, dan juga membantu model tidak hanya \"menghafal\" gambar pelatihan (overfitting). Gambar-gambar ini juga diubah ukurannya menjadi 48x48 piksel dan dijadikan hitam putih (grayscale).\n",
        "  - Generator data pengujian hanya memuat gambar dan mengubah ukurannya (48x48 piksel, grayscale) tanpa melakukan perubahan acak (augmentasi). Ini agar pengujian model lebih objektif.\n",
        "4. Membangun Model (Jaringan Saraf Tiruan): Kode mendefinisikan struktur model yang akan digunakan untuk mengenali emosi. Ini adalah jenis model yang bagus untuk gambar, namanya CNN (Convolutional Neural Network). Model ini terdiri dari beberapa lapisan yang bertugas mengekstraksi fitur penting dari gambar (seperti garis, sudut, atau bentuk wajah) dan kemudian menggunakan fitur-fitur ini untuk memutuskan emosi apa yang ada di gambar. Lapisan-lapisan penting termasuk:\n",
        "  - Lapisan Conv2D untuk menemukan pola-pola dalam gambar.\n",
        "  - Lapisan MaxPooling2D untuk memperkecil gambar setelah menemukan pola, mengurangi detail yang tidak perlu.\n",
        "  - Lapisan BatchNormalization dan Dropout untuk membantu pelatihan model menjadi lebih stabil dan mencegah overfitting.\n",
        "  - Lapisan Flatten untuk mengubah data gambar yang berdimensi menjadi satu baris data.\n",
        "  - Lapisan Dense (terhubung penuh) yang menerima data dari lapisan sebelumnya dan pada akhirnya membuat keputusan akhir. Lapisan terakhir memiliki 7 neuron, satu untuk setiap kategori emosi yang ingin dikenali, dan menggunakan aktivasi softmax untuk memberikan probabilitas setiap emosi.\n",
        "5. Mengkonfigurasi Model untuk Pelatihan: Model yang sudah dibangun kemudian dikonfigurasi sebelum dilatih. Ditentukan:\n",
        "  - loss: Cara model mengukur seberapa salah prediksinya (categorical_crossentropy).\n",
        "  - optimizer: Metode yang digunakan model untuk belajar dari kesalahan dan memperbaiki dirinya (adam).\n",
        "  - metrics: Ukuran kinerja yang akan dipantau selama pelatihan (accuracy, yaitu persentase prediksi yang benar).\n",
        "\n",
        "Jadi, secara ringkas, kode ini menyiapkan dataset gambar emosi, membuat cara untuk memuat dan memvariasikan data (augmentasi), lalu mendefinisikan struktur model CNN untuk mengenali emosi, dan terakhir mempersiapkan model tersebut untuk memulai proses pelatihan."
      ],
      "metadata": {
        "id": "vqYacRQ5fjSA"
      }
    },
    {
      "cell_type": "markdown",
      "source": [
        "# 7. TRAINING THE MODEL"
      ],
      "metadata": {
        "id": "2dbNJIT-k0n7"
      }
    },
    {
      "cell_type": "markdown",
      "source": [
        "## 7.1 Callback"
      ],
      "metadata": {
        "id": "7gI_Rq-whB5F"
      }
    },
    {
      "cell_type": "code",
      "source": [
        "# Reduce learning rate when a metric has stopped improving\n",
        "early_stopping = EarlyStopping(\n",
        "    monitor='val_accuracy',\n",
        "    min_delta=0.00005,\n",
        "    patience=8, # Lebih rendah dari 11\n",
        "    verbose=1,\n",
        "    restore_best_weights=True,\n",
        ")\n",
        "\n",
        "lr_scheduler = ReduceLROnPlateau(\n",
        "    monitor='val_accuracy',\n",
        "    factor=0.5,\n",
        "    patience=5,  # Lebih rendah dari 7\n",
        "    min_lr=1e-7,\n",
        "    verbose=1,\n",
        ")\n",
        "\n",
        "callbacks = [\n",
        "    early_stopping,\n",
        "    lr_scheduler,\n",
        "]"
      ],
      "metadata": {
        "id": "tkK78t2SgrYh"
      },
      "execution_count": null,
      "outputs": []
    },
    {
      "cell_type": "markdown",
      "source": [
        "Kode ini adalah persiapan awal untuk membuat program yang bisa mengenali emosi dari gambar wajah.\n",
        "\n",
        "1. Siapkan Alat & Data: Pertama, kode mengumpulkan semua \"alat\" (pustaka) yang dibutuhkan untuk mengolah data gambar dan membuat model pintar (jaringan saraf). Dataset gambar emosi asli (misalnya, gambar orang tersenyum, sedih) dipisah jadi dua kelompok: untuk \"belajar\" (latih) dan untuk \"ujian\" (uji). Ini penting biar model diuji pakai gambar yang belum pernah dilihatnya.\n",
        "\n",
        "2. Siapkan Data untuk Belajar & Ujian: Gambar-gambar yang sudah dipisah diatur lagi. Untuk belajar, gambar-gambar ini sengaja diubah-ubah sedikit secara acak (diputar, digeser) setiap kali dipakai. Tujuannya biar model jadi pintar dan bisa mengenali emosi meskipun gambarnya agak beda-beda. Untuk ujian, gambar hanya diatur ukurannya tanpa diubah acak, biar hasilnya jujur. Semua gambar juga dijadikan ukuran kecil (48x48) dan hitam putih.\n",
        "\n",
        "3. Buat Model Pintar: Kode membangun \"otak\" model (disebut CNN) yang bisa \"melihat\" gambar. Otak ini terdiri dari beberapa bagian (lapisan) yang tugasnya mengenali pola-pola penting di wajah (seperti mata, mulut) dan akhirnya memutuskan emosi apa yang ada di gambar.\n",
        "\n",
        "4. Atur Cara Model Belajar: Model yang sudah dibuat diatur cara belajarnya. Ditentukan bagaimana model tahu kalau prediksinya salah, bagaimana cara dia memperbaiki diri, dan apa ukurannya kalau dia sudah pintar (misalnya, akurasi).\n",
        "\n",
        "5. Pasang Pengawas Belajar: Dipasang dua \"pengawas\" saat model belajar. Pengawas pertama (EarlyStopping) akan menghentikan proses belajar kalau modelnya sudah tidak makin pintar lagi di data ujian, biar modelnya tidak \"menghafal\" data belajar saja. Pengawas kedua (ReduceLROnPlateau) akan menurunkan kecepatan belajar model kalau sudah mulai lambat peningkatannya, supaya model bisa mencari hasil yang lebih baik.\n",
        "\n",
        "Singkatnya, kode ini memilah gambar-gambar emosi, menyiapkannya agar mudah diproses oleh model pintar (dengan sedikit \"variasi\" untuk belajar dan tanpa variasi untuk ujian), membuat struktur model pintar yang cocok untuk gambar, mengatur cara model belajar, dan memasang pengawas supaya proses belajarnya efektif dan tidak buang-buang waktu."
      ],
      "metadata": {
        "id": "A5p8JNzOg1iE"
      }
    },
    {
      "cell_type": "markdown",
      "source": [
        "## 7.2 Melakukan Training Model"
      ],
      "metadata": {
        "id": "yQATYmb5hQJd"
      }
    },
    {
      "cell_type": "code",
      "source": [
        "batch_size = 64\n",
        "history = model.fit(\n",
        "    fer_training_data,\n",
        "    epochs=60, # Dikurangi untuk mencegah overfitting\n",
        "    validation_data=fer_test_data,\n",
        "    class_weight=class_weights,\n",
        "    batch_size = 64,\n",
        "    callbacks=callbacks,\n",
        ")"
      ],
      "metadata": {
        "colab": {
          "base_uri": "https://localhost:8080/"
        },
        "id": "oczyImzjhNmp",
        "outputId": "0126a705-bb9a-4d86-8776-2471f7588578"
      },
      "execution_count": null,
      "outputs": [
        {
          "output_type": "stream",
          "name": "stdout",
          "text": [
            "Epoch 1/60\n"
          ]
        },
        {
          "output_type": "stream",
          "name": "stderr",
          "text": [
            "/usr/local/lib/python3.11/dist-packages/keras/src/trainers/data_adapters/py_dataset_adapter.py:121: UserWarning: Your `PyDataset` class should call `super().__init__(**kwargs)` in its constructor. `**kwargs` can include `workers`, `use_multiprocessing`, `max_queue_size`. Do not pass these arguments to `fit()`, as they will be ignored.\n",
            "  self._warn_if_super_not_called()\n"
          ]
        },
        {
          "output_type": "stream",
          "name": "stdout",
          "text": [
            "\u001b[1m25/25\u001b[0m \u001b[32m━━━━━━━━━━━━━━━━━━━━\u001b[0m\u001b[37m\u001b[0m \u001b[1m54s\u001b[0m 1s/step - accuracy: 0.2769 - loss: 2.5108 - val_accuracy: 0.4899 - val_loss: 38.5461 - learning_rate: 0.0010\n",
            "Epoch 2/60\n",
            "\u001b[1m25/25\u001b[0m \u001b[32m━━━━━━━━━━━━━━━━━━━━\u001b[0m\u001b[37m\u001b[0m \u001b[1m3s\u001b[0m 110ms/step - accuracy: 0.5401 - loss: 1.4012 - val_accuracy: 0.2828 - val_loss: 18.7185 - learning_rate: 0.0010\n",
            "Epoch 3/60\n",
            "\u001b[1m25/25\u001b[0m \u001b[32m━━━━━━━━━━━━━━━━━━━━\u001b[0m\u001b[37m\u001b[0m \u001b[1m3s\u001b[0m 111ms/step - accuracy: 0.6349 - loss: 1.1021 - val_accuracy: 0.6111 - val_loss: 2.2685 - learning_rate: 0.0010\n",
            "Epoch 4/60\n",
            "\u001b[1m25/25\u001b[0m \u001b[32m━━━━━━━━━━━━━━━━━━━━\u001b[0m\u001b[37m\u001b[0m \u001b[1m3s\u001b[0m 116ms/step - accuracy: 0.6776 - loss: 0.8956 - val_accuracy: 0.7980 - val_loss: 0.8056 - learning_rate: 0.0010\n",
            "Epoch 5/60\n",
            "\u001b[1m25/25\u001b[0m \u001b[32m━━━━━━━━━━━━━━━━━━━━\u001b[0m\u001b[37m\u001b[0m \u001b[1m3s\u001b[0m 112ms/step - accuracy: 0.7538 - loss: 0.8152 - val_accuracy: 0.8333 - val_loss: 0.5526 - learning_rate: 0.0010\n",
            "Epoch 6/60\n",
            "\u001b[1m25/25\u001b[0m \u001b[32m━━━━━━━━━━━━━━━━━━━━\u001b[0m\u001b[37m\u001b[0m \u001b[1m3s\u001b[0m 111ms/step - accuracy: 0.6967 - loss: 0.8974 - val_accuracy: 0.7980 - val_loss: 0.5239 - learning_rate: 0.0010\n",
            "Epoch 7/60\n",
            "\u001b[1m25/25\u001b[0m \u001b[32m━━━━━━━━━━━━━━━━━━━━\u001b[0m\u001b[37m\u001b[0m \u001b[1m3s\u001b[0m 113ms/step - accuracy: 0.7879 - loss: 0.6197 - val_accuracy: 0.8283 - val_loss: 0.4048 - learning_rate: 0.0010\n",
            "Epoch 8/60\n",
            "\u001b[1m25/25\u001b[0m \u001b[32m━━━━━━━━━━━━━━━━━━━━\u001b[0m\u001b[37m\u001b[0m \u001b[1m3s\u001b[0m 117ms/step - accuracy: 0.8097 - loss: 0.6403 - val_accuracy: 0.8990 - val_loss: 0.3774 - learning_rate: 0.0010\n",
            "Epoch 9/60\n",
            "\u001b[1m25/25\u001b[0m \u001b[32m━━━━━━━━━━━━━━━━━━━━\u001b[0m\u001b[37m\u001b[0m \u001b[1m3s\u001b[0m 114ms/step - accuracy: 0.7922 - loss: 0.5849 - val_accuracy: 0.8737 - val_loss: 0.2974 - learning_rate: 0.0010\n",
            "Epoch 10/60\n",
            "\u001b[1m25/25\u001b[0m \u001b[32m━━━━━━━━━━━━━━━━━━━━\u001b[0m\u001b[37m\u001b[0m \u001b[1m3s\u001b[0m 114ms/step - accuracy: 0.8159 - loss: 0.5623 - val_accuracy: 0.9242 - val_loss: 0.2180 - learning_rate: 0.0010\n",
            "Epoch 11/60\n",
            "\u001b[1m25/25\u001b[0m \u001b[32m━━━━━━━━━━━━━━━━━━━━\u001b[0m\u001b[37m\u001b[0m \u001b[1m3s\u001b[0m 113ms/step - accuracy: 0.8671 - loss: 0.4246 - val_accuracy: 0.8990 - val_loss: 0.3053 - learning_rate: 0.0010\n",
            "Epoch 12/60\n",
            "\u001b[1m25/25\u001b[0m \u001b[32m━━━━━━━━━━━━━━━━━━━━\u001b[0m\u001b[37m\u001b[0m \u001b[1m3s\u001b[0m 115ms/step - accuracy: 0.8344 - loss: 0.5094 - val_accuracy: 0.7828 - val_loss: 0.5309 - learning_rate: 0.0010\n",
            "Epoch 13/60\n",
            "\u001b[1m25/25\u001b[0m \u001b[32m━━━━━━━━━━━━━━━━━━━━\u001b[0m\u001b[37m\u001b[0m \u001b[1m3s\u001b[0m 114ms/step - accuracy: 0.8754 - loss: 0.4224 - val_accuracy: 0.8687 - val_loss: 0.3321 - learning_rate: 0.0010\n",
            "Epoch 14/60\n",
            "\u001b[1m25/25\u001b[0m \u001b[32m━━━━━━━━━━━━━━━━━━━━\u001b[0m\u001b[37m\u001b[0m \u001b[1m3s\u001b[0m 115ms/step - accuracy: 0.8914 - loss: 0.3773 - val_accuracy: 0.9343 - val_loss: 0.1913 - learning_rate: 0.0010\n",
            "Epoch 15/60\n",
            "\u001b[1m25/25\u001b[0m \u001b[32m━━━━━━━━━━━━━━━━━━━━\u001b[0m\u001b[37m\u001b[0m \u001b[1m3s\u001b[0m 116ms/step - accuracy: 0.8737 - loss: 0.3520 - val_accuracy: 0.9646 - val_loss: 0.1120 - learning_rate: 0.0010\n",
            "Epoch 16/60\n",
            "\u001b[1m25/25\u001b[0m \u001b[32m━━━━━━━━━━━━━━━━━━━━\u001b[0m\u001b[37m\u001b[0m \u001b[1m3s\u001b[0m 115ms/step - accuracy: 0.9135 - loss: 0.3049 - val_accuracy: 0.9192 - val_loss: 0.2120 - learning_rate: 0.0010\n",
            "Epoch 17/60\n",
            "\u001b[1m25/25\u001b[0m \u001b[32m━━━━━━━━━━━━━━━━━━━━\u001b[0m\u001b[37m\u001b[0m \u001b[1m3s\u001b[0m 120ms/step - accuracy: 0.8910 - loss: 0.3834 - val_accuracy: 0.8737 - val_loss: 0.3588 - learning_rate: 0.0010\n",
            "Epoch 18/60\n",
            "\u001b[1m25/25\u001b[0m \u001b[32m━━━━━━━━━━━━━━━━━━━━\u001b[0m\u001b[37m\u001b[0m \u001b[1m3s\u001b[0m 117ms/step - accuracy: 0.9032 - loss: 0.3172 - val_accuracy: 0.9848 - val_loss: 0.0813 - learning_rate: 0.0010\n",
            "Epoch 19/60\n",
            "\u001b[1m25/25\u001b[0m \u001b[32m━━━━━━━━━━━━━━━━━━━━\u001b[0m\u001b[37m\u001b[0m \u001b[1m3s\u001b[0m 116ms/step - accuracy: 0.8939 - loss: 0.3330 - val_accuracy: 0.9848 - val_loss: 0.0666 - learning_rate: 0.0010\n",
            "Epoch 20/60\n",
            "\u001b[1m25/25\u001b[0m \u001b[32m━━━━━━━━━━━━━━━━━━━━\u001b[0m\u001b[37m\u001b[0m \u001b[1m3s\u001b[0m 117ms/step - accuracy: 0.9284 - loss: 0.2425 - val_accuracy: 0.9495 - val_loss: 0.1642 - learning_rate: 0.0010\n",
            "Epoch 21/60\n",
            "\u001b[1m25/25\u001b[0m \u001b[32m━━━━━━━━━━━━━━━━━━━━\u001b[0m\u001b[37m\u001b[0m \u001b[1m3s\u001b[0m 119ms/step - accuracy: 0.9332 - loss: 0.2305 - val_accuracy: 0.9040 - val_loss: 0.2045 - learning_rate: 0.0010\n",
            "Epoch 22/60\n",
            "\u001b[1m25/25\u001b[0m \u001b[32m━━━━━━━━━━━━━━━━━━━━\u001b[0m\u001b[37m\u001b[0m \u001b[1m5s\u001b[0m 117ms/step - accuracy: 0.9255 - loss: 0.2359 - val_accuracy: 0.9343 - val_loss: 0.1740 - learning_rate: 0.0010\n",
            "Epoch 23/60\n",
            "\u001b[1m25/25\u001b[0m \u001b[32m━━━━━━━━━━━━━━━━━━━━\u001b[0m\u001b[37m\u001b[0m \u001b[1m0s\u001b[0m 105ms/step - accuracy: 0.9360 - loss: 0.2130\n",
            "Epoch 23: ReduceLROnPlateau reducing learning rate to 0.0005000000237487257.\n",
            "\u001b[1m25/25\u001b[0m \u001b[32m━━━━━━━━━━━━━━━━━━━━\u001b[0m\u001b[37m\u001b[0m \u001b[1m3s\u001b[0m 119ms/step - accuracy: 0.9357 - loss: 0.2136 - val_accuracy: 0.9798 - val_loss: 0.0842 - learning_rate: 0.0010\n",
            "Epoch 24/60\n",
            "\u001b[1m25/25\u001b[0m \u001b[32m━━━━━━━━━━━━━━━━━━━━\u001b[0m\u001b[37m\u001b[0m \u001b[1m3s\u001b[0m 117ms/step - accuracy: 0.9415 - loss: 0.2002 - val_accuracy: 0.9697 - val_loss: 0.0687 - learning_rate: 5.0000e-04\n",
            "Epoch 25/60\n",
            "\u001b[1m25/25\u001b[0m \u001b[32m━━━━━━━━━━━━━━━━━━━━\u001b[0m\u001b[37m\u001b[0m \u001b[1m5s\u001b[0m 116ms/step - accuracy: 0.9370 - loss: 0.1867 - val_accuracy: 1.0000 - val_loss: 0.0418 - learning_rate: 5.0000e-04\n",
            "Epoch 26/60\n",
            "\u001b[1m25/25\u001b[0m \u001b[32m━━━━━━━━━━━━━━━━━━━━\u001b[0m\u001b[37m\u001b[0m \u001b[1m3s\u001b[0m 115ms/step - accuracy: 0.9594 - loss: 0.1300 - val_accuracy: 1.0000 - val_loss: 0.0252 - learning_rate: 5.0000e-04\n",
            "Epoch 27/60\n",
            "\u001b[1m25/25\u001b[0m \u001b[32m━━━━━━━━━━━━━━━━━━━━\u001b[0m\u001b[37m\u001b[0m \u001b[1m3s\u001b[0m 117ms/step - accuracy: 0.9516 - loss: 0.1998 - val_accuracy: 0.9596 - val_loss: 0.1095 - learning_rate: 5.0000e-04\n",
            "Epoch 28/60\n",
            "\u001b[1m25/25\u001b[0m \u001b[32m━━━━━━━━━━━━━━━━━━━━\u001b[0m\u001b[37m\u001b[0m \u001b[1m5s\u001b[0m 114ms/step - accuracy: 0.9650 - loss: 0.1216 - val_accuracy: 1.0000 - val_loss: 0.0236 - learning_rate: 5.0000e-04\n",
            "Epoch 29/60\n",
            "\u001b[1m25/25\u001b[0m \u001b[32m━━━━━━━━━━━━━━━━━━━━\u001b[0m\u001b[37m\u001b[0m \u001b[1m3s\u001b[0m 115ms/step - accuracy: 0.9457 - loss: 0.1643 - val_accuracy: 0.9848 - val_loss: 0.0448 - learning_rate: 5.0000e-04\n",
            "Epoch 30/60\n",
            "\u001b[1m25/25\u001b[0m \u001b[32m━━━━━━━━━━━━━━━━━━━━\u001b[0m\u001b[37m\u001b[0m \u001b[1m0s\u001b[0m 103ms/step - accuracy: 0.9515 - loss: 0.1354\n",
            "Epoch 30: ReduceLROnPlateau reducing learning rate to 0.0002500000118743628.\n",
            "\u001b[1m25/25\u001b[0m \u001b[32m━━━━━━━━━━━━━━━━━━━━\u001b[0m\u001b[37m\u001b[0m \u001b[1m3s\u001b[0m 114ms/step - accuracy: 0.9518 - loss: 0.1349 - val_accuracy: 1.0000 - val_loss: 0.0235 - learning_rate: 5.0000e-04\n",
            "Epoch 31/60\n",
            "\u001b[1m25/25\u001b[0m \u001b[32m━━━━━━━━━━━━━━━━━━━━\u001b[0m\u001b[37m\u001b[0m \u001b[1m3s\u001b[0m 115ms/step - accuracy: 0.9690 - loss: 0.1098 - val_accuracy: 1.0000 - val_loss: 0.0194 - learning_rate: 2.5000e-04\n",
            "Epoch 32/60\n",
            "\u001b[1m25/25\u001b[0m \u001b[32m━━━━━━━━━━━━━━━━━━━━\u001b[0m\u001b[37m\u001b[0m \u001b[1m3s\u001b[0m 115ms/step - accuracy: 0.9802 - loss: 0.0746 - val_accuracy: 1.0000 - val_loss: 0.0187 - learning_rate: 2.5000e-04\n",
            "Epoch 33/60\n",
            "\u001b[1m25/25\u001b[0m \u001b[32m━━━━━━━━━━━━━━━━━━━━\u001b[0m\u001b[37m\u001b[0m \u001b[1m3s\u001b[0m 114ms/step - accuracy: 0.9721 - loss: 0.1020 - val_accuracy: 1.0000 - val_loss: 0.0177 - learning_rate: 2.5000e-04\n",
            "Epoch 33: early stopping\n",
            "Restoring model weights from the end of the best epoch: 25.\n"
          ]
        }
      ]
    },
    {
      "cell_type": "markdown",
      "source": [
        "## 7.3 Visualisasi Hasil Training"
      ],
      "metadata": {
        "id": "tTsvjSoplE-8"
      }
    },
    {
      "cell_type": "code",
      "source": [
        "import plotly.graph_objects as go\n",
        "\n",
        "# Create traces\n",
        "fig = go.Figure()\n",
        "\n",
        "# Training vs. Validation Accuracy\n",
        "fig.add_trace(go.Scatter(x=list(range(1, len(history.history['accuracy']) + 1)), y=history.history['accuracy'], mode='lines+markers', name='Training Accuracy'))\n",
        "fig.add_trace(go.Scatter(x=list(range(1, len(history.history['val_accuracy']) + 1)), y=history.history['val_accuracy'], mode='lines+markers', name='Validation Accuracy'))\n",
        "\n",
        "# Layout for Accuracy\n",
        "fig.update_layout(title='Training vs. Validation Accuracy', xaxis_title='Epoch', yaxis_title='Accuracy', template=\"plotly_white\")\n",
        "\n",
        "# Show the plot\n",
        "fig.show()\n",
        "\n",
        "# New figure for loss\n",
        "fig = go.Figure()\n",
        "\n",
        "# Training vs. Validation Loss\n",
        "fig.add_trace(go.Scatter(x=list(range(1, len(history.history['loss']) + 1)), y=history.history['loss'], mode='lines+markers', name='Training Loss'))\n",
        "fig.add_trace(go.Scatter(x=list(range(1, len(history.history['val_loss']) + 1)), y=history.history['val_loss'], mode='lines+markers', name='Validation Loss'))\n",
        "\n",
        "# Layout for Loss\n",
        "fig.update_layout(title='Training vs. Validation Loss', xaxis_title='Epoch', yaxis_title='Loss', template=\"plotly_white\")\n",
        "\n",
        "# Show the plot\n",
        "fig.show()"
      ],
      "metadata": {
        "colab": {
          "base_uri": "https://localhost:8080/",
          "height": 1000
        },
        "id": "gHt0V9RtFx-o",
        "outputId": "6561afde-6f96-491b-c6c0-a6981cb36b37"
      },
      "execution_count": null,
      "outputs": [
        {
          "output_type": "display_data",
          "data": {
            "text/html": [
              "<html>\n",
              "<head><meta charset=\"utf-8\" /></head>\n",
              "<body>\n",
              "    <div>            <script src=\"https://cdnjs.cloudflare.com/ajax/libs/mathjax/2.7.5/MathJax.js?config=TeX-AMS-MML_SVG\"></script><script type=\"text/javascript\">if (window.MathJax && window.MathJax.Hub && window.MathJax.Hub.Config) {window.MathJax.Hub.Config({SVG: {font: \"STIX-Web\"}});}</script>                <script type=\"text/javascript\">window.PlotlyConfig = {MathJaxConfig: 'local'};</script>\n",
              "        <script charset=\"utf-8\" src=\"https://cdn.plot.ly/plotly-2.35.2.min.js\"></script>                <div id=\"f84eeaa0-ec0b-4d42-bee2-130e8270ab8c\" class=\"plotly-graph-div\" style=\"height:525px; width:100%;\"></div>            <script type=\"text/javascript\">                                    window.PLOTLYENV=window.PLOTLYENV || {};                                    if (document.getElementById(\"f84eeaa0-ec0b-4d42-bee2-130e8270ab8c\")) {                    Plotly.newPlot(                        \"f84eeaa0-ec0b-4d42-bee2-130e8270ab8c\",                        [{\"mode\":\"lines+markers\",\"name\":\"Training Accuracy\",\"x\":[1,2,3,4,5,6,7,8,9,10,11,12,13,14,15,16,17,18,19,20,21,22,23,24,25,26,27,28,29,30,31,32,33],\"y\":[0.3575989902019501,0.5517241358757019,0.6436781883239746,0.6756066679954529,0.7445721626281738,0.7394636273384094,0.7816091775894165,0.8020434379577637,0.7943806052207947,0.8199234008789062,0.8467432856559753,0.8416347503662109,0.8620689511299133,0.8837803602218628,0.8850574493408203,0.8927202820777893,0.9042145609855652,0.8965517282485962,0.9054917097091675,0.9182630777359009,0.9284802079200745,0.9169859290122986,0.9272030591964722,0.946360170841217,0.946360170841217,0.9578543901443481,0.9489144086837769,0.961685836315155,0.9553001523017883,0.9591315388679504,0.9731800556182861,0.977011501789093,0.9744572043418884],\"type\":\"scatter\"},{\"mode\":\"lines+markers\",\"name\":\"Validation Accuracy\",\"x\":[1,2,3,4,5,6,7,8,9,10,11,12,13,14,15,16,17,18,19,20,21,22,23,24,25,26,27,28,29,30,31,32,33],\"y\":[0.4898989796638489,0.28282827138900757,0.6111111044883728,0.7979797720909119,0.8333333134651184,0.7979797720909119,0.8282828330993652,0.8989899158477783,0.8737373948097229,0.9242424368858337,0.8989899158477783,0.7828282713890076,0.868686854839325,0.9343434572219849,0.9646464586257935,0.9191918969154358,0.8737373948097229,0.9848484992980957,0.9848484992980957,0.9494949579238892,0.9040403962135315,0.9343434572219849,0.9797979593276978,0.9696969985961914,1.0,1.0,0.9595959782600403,1.0,0.9848484992980957,1.0,1.0,1.0,1.0],\"type\":\"scatter\"}],                        {\"template\":{\"data\":{\"barpolar\":[{\"marker\":{\"line\":{\"color\":\"white\",\"width\":0.5},\"pattern\":{\"fillmode\":\"overlay\",\"size\":10,\"solidity\":0.2}},\"type\":\"barpolar\"}],\"bar\":[{\"error_x\":{\"color\":\"#2a3f5f\"},\"error_y\":{\"color\":\"#2a3f5f\"},\"marker\":{\"line\":{\"color\":\"white\",\"width\":0.5},\"pattern\":{\"fillmode\":\"overlay\",\"size\":10,\"solidity\":0.2}},\"type\":\"bar\"}],\"carpet\":[{\"aaxis\":{\"endlinecolor\":\"#2a3f5f\",\"gridcolor\":\"#C8D4E3\",\"linecolor\":\"#C8D4E3\",\"minorgridcolor\":\"#C8D4E3\",\"startlinecolor\":\"#2a3f5f\"},\"baxis\":{\"endlinecolor\":\"#2a3f5f\",\"gridcolor\":\"#C8D4E3\",\"linecolor\":\"#C8D4E3\",\"minorgridcolor\":\"#C8D4E3\",\"startlinecolor\":\"#2a3f5f\"},\"type\":\"carpet\"}],\"choropleth\":[{\"colorbar\":{\"outlinewidth\":0,\"ticks\":\"\"},\"type\":\"choropleth\"}],\"contourcarpet\":[{\"colorbar\":{\"outlinewidth\":0,\"ticks\":\"\"},\"type\":\"contourcarpet\"}],\"contour\":[{\"colorbar\":{\"outlinewidth\":0,\"ticks\":\"\"},\"colorscale\":[[0.0,\"#0d0887\"],[0.1111111111111111,\"#46039f\"],[0.2222222222222222,\"#7201a8\"],[0.3333333333333333,\"#9c179e\"],[0.4444444444444444,\"#bd3786\"],[0.5555555555555556,\"#d8576b\"],[0.6666666666666666,\"#ed7953\"],[0.7777777777777778,\"#fb9f3a\"],[0.8888888888888888,\"#fdca26\"],[1.0,\"#f0f921\"]],\"type\":\"contour\"}],\"heatmapgl\":[{\"colorbar\":{\"outlinewidth\":0,\"ticks\":\"\"},\"colorscale\":[[0.0,\"#0d0887\"],[0.1111111111111111,\"#46039f\"],[0.2222222222222222,\"#7201a8\"],[0.3333333333333333,\"#9c179e\"],[0.4444444444444444,\"#bd3786\"],[0.5555555555555556,\"#d8576b\"],[0.6666666666666666,\"#ed7953\"],[0.7777777777777778,\"#fb9f3a\"],[0.8888888888888888,\"#fdca26\"],[1.0,\"#f0f921\"]],\"type\":\"heatmapgl\"}],\"heatmap\":[{\"colorbar\":{\"outlinewidth\":0,\"ticks\":\"\"},\"colorscale\":[[0.0,\"#0d0887\"],[0.1111111111111111,\"#46039f\"],[0.2222222222222222,\"#7201a8\"],[0.3333333333333333,\"#9c179e\"],[0.4444444444444444,\"#bd3786\"],[0.5555555555555556,\"#d8576b\"],[0.6666666666666666,\"#ed7953\"],[0.7777777777777778,\"#fb9f3a\"],[0.8888888888888888,\"#fdca26\"],[1.0,\"#f0f921\"]],\"type\":\"heatmap\"}],\"histogram2dcontour\":[{\"colorbar\":{\"outlinewidth\":0,\"ticks\":\"\"},\"colorscale\":[[0.0,\"#0d0887\"],[0.1111111111111111,\"#46039f\"],[0.2222222222222222,\"#7201a8\"],[0.3333333333333333,\"#9c179e\"],[0.4444444444444444,\"#bd3786\"],[0.5555555555555556,\"#d8576b\"],[0.6666666666666666,\"#ed7953\"],[0.7777777777777778,\"#fb9f3a\"],[0.8888888888888888,\"#fdca26\"],[1.0,\"#f0f921\"]],\"type\":\"histogram2dcontour\"}],\"histogram2d\":[{\"colorbar\":{\"outlinewidth\":0,\"ticks\":\"\"},\"colorscale\":[[0.0,\"#0d0887\"],[0.1111111111111111,\"#46039f\"],[0.2222222222222222,\"#7201a8\"],[0.3333333333333333,\"#9c179e\"],[0.4444444444444444,\"#bd3786\"],[0.5555555555555556,\"#d8576b\"],[0.6666666666666666,\"#ed7953\"],[0.7777777777777778,\"#fb9f3a\"],[0.8888888888888888,\"#fdca26\"],[1.0,\"#f0f921\"]],\"type\":\"histogram2d\"}],\"histogram\":[{\"marker\":{\"pattern\":{\"fillmode\":\"overlay\",\"size\":10,\"solidity\":0.2}},\"type\":\"histogram\"}],\"mesh3d\":[{\"colorbar\":{\"outlinewidth\":0,\"ticks\":\"\"},\"type\":\"mesh3d\"}],\"parcoords\":[{\"line\":{\"colorbar\":{\"outlinewidth\":0,\"ticks\":\"\"}},\"type\":\"parcoords\"}],\"pie\":[{\"automargin\":true,\"type\":\"pie\"}],\"scatter3d\":[{\"line\":{\"colorbar\":{\"outlinewidth\":0,\"ticks\":\"\"}},\"marker\":{\"colorbar\":{\"outlinewidth\":0,\"ticks\":\"\"}},\"type\":\"scatter3d\"}],\"scattercarpet\":[{\"marker\":{\"colorbar\":{\"outlinewidth\":0,\"ticks\":\"\"}},\"type\":\"scattercarpet\"}],\"scattergeo\":[{\"marker\":{\"colorbar\":{\"outlinewidth\":0,\"ticks\":\"\"}},\"type\":\"scattergeo\"}],\"scattergl\":[{\"marker\":{\"colorbar\":{\"outlinewidth\":0,\"ticks\":\"\"}},\"type\":\"scattergl\"}],\"scattermapbox\":[{\"marker\":{\"colorbar\":{\"outlinewidth\":0,\"ticks\":\"\"}},\"type\":\"scattermapbox\"}],\"scatterpolargl\":[{\"marker\":{\"colorbar\":{\"outlinewidth\":0,\"ticks\":\"\"}},\"type\":\"scatterpolargl\"}],\"scatterpolar\":[{\"marker\":{\"colorbar\":{\"outlinewidth\":0,\"ticks\":\"\"}},\"type\":\"scatterpolar\"}],\"scatter\":[{\"fillpattern\":{\"fillmode\":\"overlay\",\"size\":10,\"solidity\":0.2},\"type\":\"scatter\"}],\"scatterternary\":[{\"marker\":{\"colorbar\":{\"outlinewidth\":0,\"ticks\":\"\"}},\"type\":\"scatterternary\"}],\"surface\":[{\"colorbar\":{\"outlinewidth\":0,\"ticks\":\"\"},\"colorscale\":[[0.0,\"#0d0887\"],[0.1111111111111111,\"#46039f\"],[0.2222222222222222,\"#7201a8\"],[0.3333333333333333,\"#9c179e\"],[0.4444444444444444,\"#bd3786\"],[0.5555555555555556,\"#d8576b\"],[0.6666666666666666,\"#ed7953\"],[0.7777777777777778,\"#fb9f3a\"],[0.8888888888888888,\"#fdca26\"],[1.0,\"#f0f921\"]],\"type\":\"surface\"}],\"table\":[{\"cells\":{\"fill\":{\"color\":\"#EBF0F8\"},\"line\":{\"color\":\"white\"}},\"header\":{\"fill\":{\"color\":\"#C8D4E3\"},\"line\":{\"color\":\"white\"}},\"type\":\"table\"}]},\"layout\":{\"annotationdefaults\":{\"arrowcolor\":\"#2a3f5f\",\"arrowhead\":0,\"arrowwidth\":1},\"autotypenumbers\":\"strict\",\"coloraxis\":{\"colorbar\":{\"outlinewidth\":0,\"ticks\":\"\"}},\"colorscale\":{\"diverging\":[[0,\"#8e0152\"],[0.1,\"#c51b7d\"],[0.2,\"#de77ae\"],[0.3,\"#f1b6da\"],[0.4,\"#fde0ef\"],[0.5,\"#f7f7f7\"],[0.6,\"#e6f5d0\"],[0.7,\"#b8e186\"],[0.8,\"#7fbc41\"],[0.9,\"#4d9221\"],[1,\"#276419\"]],\"sequential\":[[0.0,\"#0d0887\"],[0.1111111111111111,\"#46039f\"],[0.2222222222222222,\"#7201a8\"],[0.3333333333333333,\"#9c179e\"],[0.4444444444444444,\"#bd3786\"],[0.5555555555555556,\"#d8576b\"],[0.6666666666666666,\"#ed7953\"],[0.7777777777777778,\"#fb9f3a\"],[0.8888888888888888,\"#fdca26\"],[1.0,\"#f0f921\"]],\"sequentialminus\":[[0.0,\"#0d0887\"],[0.1111111111111111,\"#46039f\"],[0.2222222222222222,\"#7201a8\"],[0.3333333333333333,\"#9c179e\"],[0.4444444444444444,\"#bd3786\"],[0.5555555555555556,\"#d8576b\"],[0.6666666666666666,\"#ed7953\"],[0.7777777777777778,\"#fb9f3a\"],[0.8888888888888888,\"#fdca26\"],[1.0,\"#f0f921\"]]},\"colorway\":[\"#636efa\",\"#EF553B\",\"#00cc96\",\"#ab63fa\",\"#FFA15A\",\"#19d3f3\",\"#FF6692\",\"#B6E880\",\"#FF97FF\",\"#FECB52\"],\"font\":{\"color\":\"#2a3f5f\"},\"geo\":{\"bgcolor\":\"white\",\"lakecolor\":\"white\",\"landcolor\":\"white\",\"showlakes\":true,\"showland\":true,\"subunitcolor\":\"#C8D4E3\"},\"hoverlabel\":{\"align\":\"left\"},\"hovermode\":\"closest\",\"mapbox\":{\"style\":\"light\"},\"paper_bgcolor\":\"white\",\"plot_bgcolor\":\"white\",\"polar\":{\"angularaxis\":{\"gridcolor\":\"#EBF0F8\",\"linecolor\":\"#EBF0F8\",\"ticks\":\"\"},\"bgcolor\":\"white\",\"radialaxis\":{\"gridcolor\":\"#EBF0F8\",\"linecolor\":\"#EBF0F8\",\"ticks\":\"\"}},\"scene\":{\"xaxis\":{\"backgroundcolor\":\"white\",\"gridcolor\":\"#DFE8F3\",\"gridwidth\":2,\"linecolor\":\"#EBF0F8\",\"showbackground\":true,\"ticks\":\"\",\"zerolinecolor\":\"#EBF0F8\"},\"yaxis\":{\"backgroundcolor\":\"white\",\"gridcolor\":\"#DFE8F3\",\"gridwidth\":2,\"linecolor\":\"#EBF0F8\",\"showbackground\":true,\"ticks\":\"\",\"zerolinecolor\":\"#EBF0F8\"},\"zaxis\":{\"backgroundcolor\":\"white\",\"gridcolor\":\"#DFE8F3\",\"gridwidth\":2,\"linecolor\":\"#EBF0F8\",\"showbackground\":true,\"ticks\":\"\",\"zerolinecolor\":\"#EBF0F8\"}},\"shapedefaults\":{\"line\":{\"color\":\"#2a3f5f\"}},\"ternary\":{\"aaxis\":{\"gridcolor\":\"#DFE8F3\",\"linecolor\":\"#A2B1C6\",\"ticks\":\"\"},\"baxis\":{\"gridcolor\":\"#DFE8F3\",\"linecolor\":\"#A2B1C6\",\"ticks\":\"\"},\"bgcolor\":\"white\",\"caxis\":{\"gridcolor\":\"#DFE8F3\",\"linecolor\":\"#A2B1C6\",\"ticks\":\"\"}},\"title\":{\"x\":0.05},\"xaxis\":{\"automargin\":true,\"gridcolor\":\"#EBF0F8\",\"linecolor\":\"#EBF0F8\",\"ticks\":\"\",\"title\":{\"standoff\":15},\"zerolinecolor\":\"#EBF0F8\",\"zerolinewidth\":2},\"yaxis\":{\"automargin\":true,\"gridcolor\":\"#EBF0F8\",\"linecolor\":\"#EBF0F8\",\"ticks\":\"\",\"title\":{\"standoff\":15},\"zerolinecolor\":\"#EBF0F8\",\"zerolinewidth\":2}}},\"title\":{\"text\":\"Training vs. Validation Accuracy\"},\"xaxis\":{\"title\":{\"text\":\"Epoch\"}},\"yaxis\":{\"title\":{\"text\":\"Accuracy\"}}},                        {\"responsive\": true}                    ).then(function(){\n",
              "                            \n",
              "var gd = document.getElementById('f84eeaa0-ec0b-4d42-bee2-130e8270ab8c');\n",
              "var x = new MutationObserver(function (mutations, observer) {{\n",
              "        var display = window.getComputedStyle(gd).display;\n",
              "        if (!display || display === 'none') {{\n",
              "            console.log([gd, 'removed!']);\n",
              "            Plotly.purge(gd);\n",
              "            observer.disconnect();\n",
              "        }}\n",
              "}});\n",
              "\n",
              "// Listen for the removal of the full notebook cells\n",
              "var notebookContainer = gd.closest('#notebook-container');\n",
              "if (notebookContainer) {{\n",
              "    x.observe(notebookContainer, {childList: true});\n",
              "}}\n",
              "\n",
              "// Listen for the clearing of the current output cell\n",
              "var outputEl = gd.closest('.output');\n",
              "if (outputEl) {{\n",
              "    x.observe(outputEl, {childList: true});\n",
              "}}\n",
              "\n",
              "                        })                };                            </script>        </div>\n",
              "</body>\n",
              "</html>"
            ]
          },
          "metadata": {}
        },
        {
          "output_type": "display_data",
          "data": {
            "text/html": [
              "<html>\n",
              "<head><meta charset=\"utf-8\" /></head>\n",
              "<body>\n",
              "    <div>            <script src=\"https://cdnjs.cloudflare.com/ajax/libs/mathjax/2.7.5/MathJax.js?config=TeX-AMS-MML_SVG\"></script><script type=\"text/javascript\">if (window.MathJax && window.MathJax.Hub && window.MathJax.Hub.Config) {window.MathJax.Hub.Config({SVG: {font: \"STIX-Web\"}});}</script>                <script type=\"text/javascript\">window.PlotlyConfig = {MathJaxConfig: 'local'};</script>\n",
              "        <script charset=\"utf-8\" src=\"https://cdn.plot.ly/plotly-2.35.2.min.js\"></script>                <div id=\"d652bf34-b6e2-4c2d-a996-94472f955ba0\" class=\"plotly-graph-div\" style=\"height:525px; width:100%;\"></div>            <script type=\"text/javascript\">                                    window.PLOTLYENV=window.PLOTLYENV || {};                                    if (document.getElementById(\"d652bf34-b6e2-4c2d-a996-94472f955ba0\")) {                    Plotly.newPlot(                        \"d652bf34-b6e2-4c2d-a996-94472f955ba0\",                        [{\"mode\":\"lines+markers\",\"name\":\"Training Loss\",\"x\":[1,2,3,4,5,6,7,8,9,10,11,12,13,14,15,16,17,18,19,20,21,22,23,24,25,26,27,28,29,30,31,32,33],\"y\":[2.2098500728607178,1.3857613801956177,1.0840487480163574,0.9415386319160461,0.8066966533660889,0.7845015525817871,0.6500041484832764,0.6130054593086243,0.57228684425354,0.5991151928901672,0.47019025683403015,0.4968410134315491,0.4441719949245453,0.4009338617324829,0.33807656168937683,0.34909650683403015,0.36838221549987793,0.29732006788253784,0.3151974380016327,0.2423732578754425,0.2507398724555969,0.24115754663944244,0.2277258336544037,0.18031077086925507,0.1520017832517624,0.13243985176086426,0.17098528146743774,0.14620943367481232,0.14074882864952087,0.1223941445350647,0.10594484955072403,0.08851096034049988,0.09228044748306274],\"type\":\"scatter\"},{\"mode\":\"lines+markers\",\"name\":\"Validation Loss\",\"x\":[1,2,3,4,5,6,7,8,9,10,11,12,13,14,15,16,17,18,19,20,21,22,23,24,25,26,27,28,29,30,31,32,33],\"y\":[38.54608154296875,18.718528747558594,2.268503189086914,0.8055654168128967,0.5525961518287659,0.5239269137382507,0.4048100411891937,0.37737712264060974,0.29744577407836914,0.21800443530082703,0.30531877279281616,0.5308814644813538,0.33211860060691833,0.19127173721790314,0.11203788965940475,0.2119876593351364,0.35879623889923096,0.08127409219741821,0.06661249697208405,0.16424115002155304,0.20452137291431427,0.17402179539203644,0.08418940752744675,0.06871171295642853,0.04178641363978386,0.025188853964209557,0.10946398973464966,0.023565607145428658,0.04484478011727333,0.02351239323616028,0.01935740001499653,0.0187187772244215,0.0176558718085289],\"type\":\"scatter\"}],                        {\"template\":{\"data\":{\"barpolar\":[{\"marker\":{\"line\":{\"color\":\"white\",\"width\":0.5},\"pattern\":{\"fillmode\":\"overlay\",\"size\":10,\"solidity\":0.2}},\"type\":\"barpolar\"}],\"bar\":[{\"error_x\":{\"color\":\"#2a3f5f\"},\"error_y\":{\"color\":\"#2a3f5f\"},\"marker\":{\"line\":{\"color\":\"white\",\"width\":0.5},\"pattern\":{\"fillmode\":\"overlay\",\"size\":10,\"solidity\":0.2}},\"type\":\"bar\"}],\"carpet\":[{\"aaxis\":{\"endlinecolor\":\"#2a3f5f\",\"gridcolor\":\"#C8D4E3\",\"linecolor\":\"#C8D4E3\",\"minorgridcolor\":\"#C8D4E3\",\"startlinecolor\":\"#2a3f5f\"},\"baxis\":{\"endlinecolor\":\"#2a3f5f\",\"gridcolor\":\"#C8D4E3\",\"linecolor\":\"#C8D4E3\",\"minorgridcolor\":\"#C8D4E3\",\"startlinecolor\":\"#2a3f5f\"},\"type\":\"carpet\"}],\"choropleth\":[{\"colorbar\":{\"outlinewidth\":0,\"ticks\":\"\"},\"type\":\"choropleth\"}],\"contourcarpet\":[{\"colorbar\":{\"outlinewidth\":0,\"ticks\":\"\"},\"type\":\"contourcarpet\"}],\"contour\":[{\"colorbar\":{\"outlinewidth\":0,\"ticks\":\"\"},\"colorscale\":[[0.0,\"#0d0887\"],[0.1111111111111111,\"#46039f\"],[0.2222222222222222,\"#7201a8\"],[0.3333333333333333,\"#9c179e\"],[0.4444444444444444,\"#bd3786\"],[0.5555555555555556,\"#d8576b\"],[0.6666666666666666,\"#ed7953\"],[0.7777777777777778,\"#fb9f3a\"],[0.8888888888888888,\"#fdca26\"],[1.0,\"#f0f921\"]],\"type\":\"contour\"}],\"heatmapgl\":[{\"colorbar\":{\"outlinewidth\":0,\"ticks\":\"\"},\"colorscale\":[[0.0,\"#0d0887\"],[0.1111111111111111,\"#46039f\"],[0.2222222222222222,\"#7201a8\"],[0.3333333333333333,\"#9c179e\"],[0.4444444444444444,\"#bd3786\"],[0.5555555555555556,\"#d8576b\"],[0.6666666666666666,\"#ed7953\"],[0.7777777777777778,\"#fb9f3a\"],[0.8888888888888888,\"#fdca26\"],[1.0,\"#f0f921\"]],\"type\":\"heatmapgl\"}],\"heatmap\":[{\"colorbar\":{\"outlinewidth\":0,\"ticks\":\"\"},\"colorscale\":[[0.0,\"#0d0887\"],[0.1111111111111111,\"#46039f\"],[0.2222222222222222,\"#7201a8\"],[0.3333333333333333,\"#9c179e\"],[0.4444444444444444,\"#bd3786\"],[0.5555555555555556,\"#d8576b\"],[0.6666666666666666,\"#ed7953\"],[0.7777777777777778,\"#fb9f3a\"],[0.8888888888888888,\"#fdca26\"],[1.0,\"#f0f921\"]],\"type\":\"heatmap\"}],\"histogram2dcontour\":[{\"colorbar\":{\"outlinewidth\":0,\"ticks\":\"\"},\"colorscale\":[[0.0,\"#0d0887\"],[0.1111111111111111,\"#46039f\"],[0.2222222222222222,\"#7201a8\"],[0.3333333333333333,\"#9c179e\"],[0.4444444444444444,\"#bd3786\"],[0.5555555555555556,\"#d8576b\"],[0.6666666666666666,\"#ed7953\"],[0.7777777777777778,\"#fb9f3a\"],[0.8888888888888888,\"#fdca26\"],[1.0,\"#f0f921\"]],\"type\":\"histogram2dcontour\"}],\"histogram2d\":[{\"colorbar\":{\"outlinewidth\":0,\"ticks\":\"\"},\"colorscale\":[[0.0,\"#0d0887\"],[0.1111111111111111,\"#46039f\"],[0.2222222222222222,\"#7201a8\"],[0.3333333333333333,\"#9c179e\"],[0.4444444444444444,\"#bd3786\"],[0.5555555555555556,\"#d8576b\"],[0.6666666666666666,\"#ed7953\"],[0.7777777777777778,\"#fb9f3a\"],[0.8888888888888888,\"#fdca26\"],[1.0,\"#f0f921\"]],\"type\":\"histogram2d\"}],\"histogram\":[{\"marker\":{\"pattern\":{\"fillmode\":\"overlay\",\"size\":10,\"solidity\":0.2}},\"type\":\"histogram\"}],\"mesh3d\":[{\"colorbar\":{\"outlinewidth\":0,\"ticks\":\"\"},\"type\":\"mesh3d\"}],\"parcoords\":[{\"line\":{\"colorbar\":{\"outlinewidth\":0,\"ticks\":\"\"}},\"type\":\"parcoords\"}],\"pie\":[{\"automargin\":true,\"type\":\"pie\"}],\"scatter3d\":[{\"line\":{\"colorbar\":{\"outlinewidth\":0,\"ticks\":\"\"}},\"marker\":{\"colorbar\":{\"outlinewidth\":0,\"ticks\":\"\"}},\"type\":\"scatter3d\"}],\"scattercarpet\":[{\"marker\":{\"colorbar\":{\"outlinewidth\":0,\"ticks\":\"\"}},\"type\":\"scattercarpet\"}],\"scattergeo\":[{\"marker\":{\"colorbar\":{\"outlinewidth\":0,\"ticks\":\"\"}},\"type\":\"scattergeo\"}],\"scattergl\":[{\"marker\":{\"colorbar\":{\"outlinewidth\":0,\"ticks\":\"\"}},\"type\":\"scattergl\"}],\"scattermapbox\":[{\"marker\":{\"colorbar\":{\"outlinewidth\":0,\"ticks\":\"\"}},\"type\":\"scattermapbox\"}],\"scatterpolargl\":[{\"marker\":{\"colorbar\":{\"outlinewidth\":0,\"ticks\":\"\"}},\"type\":\"scatterpolargl\"}],\"scatterpolar\":[{\"marker\":{\"colorbar\":{\"outlinewidth\":0,\"ticks\":\"\"}},\"type\":\"scatterpolar\"}],\"scatter\":[{\"fillpattern\":{\"fillmode\":\"overlay\",\"size\":10,\"solidity\":0.2},\"type\":\"scatter\"}],\"scatterternary\":[{\"marker\":{\"colorbar\":{\"outlinewidth\":0,\"ticks\":\"\"}},\"type\":\"scatterternary\"}],\"surface\":[{\"colorbar\":{\"outlinewidth\":0,\"ticks\":\"\"},\"colorscale\":[[0.0,\"#0d0887\"],[0.1111111111111111,\"#46039f\"],[0.2222222222222222,\"#7201a8\"],[0.3333333333333333,\"#9c179e\"],[0.4444444444444444,\"#bd3786\"],[0.5555555555555556,\"#d8576b\"],[0.6666666666666666,\"#ed7953\"],[0.7777777777777778,\"#fb9f3a\"],[0.8888888888888888,\"#fdca26\"],[1.0,\"#f0f921\"]],\"type\":\"surface\"}],\"table\":[{\"cells\":{\"fill\":{\"color\":\"#EBF0F8\"},\"line\":{\"color\":\"white\"}},\"header\":{\"fill\":{\"color\":\"#C8D4E3\"},\"line\":{\"color\":\"white\"}},\"type\":\"table\"}]},\"layout\":{\"annotationdefaults\":{\"arrowcolor\":\"#2a3f5f\",\"arrowhead\":0,\"arrowwidth\":1},\"autotypenumbers\":\"strict\",\"coloraxis\":{\"colorbar\":{\"outlinewidth\":0,\"ticks\":\"\"}},\"colorscale\":{\"diverging\":[[0,\"#8e0152\"],[0.1,\"#c51b7d\"],[0.2,\"#de77ae\"],[0.3,\"#f1b6da\"],[0.4,\"#fde0ef\"],[0.5,\"#f7f7f7\"],[0.6,\"#e6f5d0\"],[0.7,\"#b8e186\"],[0.8,\"#7fbc41\"],[0.9,\"#4d9221\"],[1,\"#276419\"]],\"sequential\":[[0.0,\"#0d0887\"],[0.1111111111111111,\"#46039f\"],[0.2222222222222222,\"#7201a8\"],[0.3333333333333333,\"#9c179e\"],[0.4444444444444444,\"#bd3786\"],[0.5555555555555556,\"#d8576b\"],[0.6666666666666666,\"#ed7953\"],[0.7777777777777778,\"#fb9f3a\"],[0.8888888888888888,\"#fdca26\"],[1.0,\"#f0f921\"]],\"sequentialminus\":[[0.0,\"#0d0887\"],[0.1111111111111111,\"#46039f\"],[0.2222222222222222,\"#7201a8\"],[0.3333333333333333,\"#9c179e\"],[0.4444444444444444,\"#bd3786\"],[0.5555555555555556,\"#d8576b\"],[0.6666666666666666,\"#ed7953\"],[0.7777777777777778,\"#fb9f3a\"],[0.8888888888888888,\"#fdca26\"],[1.0,\"#f0f921\"]]},\"colorway\":[\"#636efa\",\"#EF553B\",\"#00cc96\",\"#ab63fa\",\"#FFA15A\",\"#19d3f3\",\"#FF6692\",\"#B6E880\",\"#FF97FF\",\"#FECB52\"],\"font\":{\"color\":\"#2a3f5f\"},\"geo\":{\"bgcolor\":\"white\",\"lakecolor\":\"white\",\"landcolor\":\"white\",\"showlakes\":true,\"showland\":true,\"subunitcolor\":\"#C8D4E3\"},\"hoverlabel\":{\"align\":\"left\"},\"hovermode\":\"closest\",\"mapbox\":{\"style\":\"light\"},\"paper_bgcolor\":\"white\",\"plot_bgcolor\":\"white\",\"polar\":{\"angularaxis\":{\"gridcolor\":\"#EBF0F8\",\"linecolor\":\"#EBF0F8\",\"ticks\":\"\"},\"bgcolor\":\"white\",\"radialaxis\":{\"gridcolor\":\"#EBF0F8\",\"linecolor\":\"#EBF0F8\",\"ticks\":\"\"}},\"scene\":{\"xaxis\":{\"backgroundcolor\":\"white\",\"gridcolor\":\"#DFE8F3\",\"gridwidth\":2,\"linecolor\":\"#EBF0F8\",\"showbackground\":true,\"ticks\":\"\",\"zerolinecolor\":\"#EBF0F8\"},\"yaxis\":{\"backgroundcolor\":\"white\",\"gridcolor\":\"#DFE8F3\",\"gridwidth\":2,\"linecolor\":\"#EBF0F8\",\"showbackground\":true,\"ticks\":\"\",\"zerolinecolor\":\"#EBF0F8\"},\"zaxis\":{\"backgroundcolor\":\"white\",\"gridcolor\":\"#DFE8F3\",\"gridwidth\":2,\"linecolor\":\"#EBF0F8\",\"showbackground\":true,\"ticks\":\"\",\"zerolinecolor\":\"#EBF0F8\"}},\"shapedefaults\":{\"line\":{\"color\":\"#2a3f5f\"}},\"ternary\":{\"aaxis\":{\"gridcolor\":\"#DFE8F3\",\"linecolor\":\"#A2B1C6\",\"ticks\":\"\"},\"baxis\":{\"gridcolor\":\"#DFE8F3\",\"linecolor\":\"#A2B1C6\",\"ticks\":\"\"},\"bgcolor\":\"white\",\"caxis\":{\"gridcolor\":\"#DFE8F3\",\"linecolor\":\"#A2B1C6\",\"ticks\":\"\"}},\"title\":{\"x\":0.05},\"xaxis\":{\"automargin\":true,\"gridcolor\":\"#EBF0F8\",\"linecolor\":\"#EBF0F8\",\"ticks\":\"\",\"title\":{\"standoff\":15},\"zerolinecolor\":\"#EBF0F8\",\"zerolinewidth\":2},\"yaxis\":{\"automargin\":true,\"gridcolor\":\"#EBF0F8\",\"linecolor\":\"#EBF0F8\",\"ticks\":\"\",\"title\":{\"standoff\":15},\"zerolinecolor\":\"#EBF0F8\",\"zerolinewidth\":2}}},\"title\":{\"text\":\"Training vs. Validation Loss\"},\"xaxis\":{\"title\":{\"text\":\"Epoch\"}},\"yaxis\":{\"title\":{\"text\":\"Loss\"}}},                        {\"responsive\": true}                    ).then(function(){\n",
              "                            \n",
              "var gd = document.getElementById('d652bf34-b6e2-4c2d-a996-94472f955ba0');\n",
              "var x = new MutationObserver(function (mutations, observer) {{\n",
              "        var display = window.getComputedStyle(gd).display;\n",
              "        if (!display || display === 'none') {{\n",
              "            console.log([gd, 'removed!']);\n",
              "            Plotly.purge(gd);\n",
              "            observer.disconnect();\n",
              "        }}\n",
              "}});\n",
              "\n",
              "// Listen for the removal of the full notebook cells\n",
              "var notebookContainer = gd.closest('#notebook-container');\n",
              "if (notebookContainer) {{\n",
              "    x.observe(notebookContainer, {childList: true});\n",
              "}}\n",
              "\n",
              "// Listen for the clearing of the current output cell\n",
              "var outputEl = gd.closest('.output');\n",
              "if (outputEl) {{\n",
              "    x.observe(outputEl, {childList: true});\n",
              "}}\n",
              "\n",
              "                        })                };                            </script>        </div>\n",
              "</body>\n",
              "</html>"
            ]
          },
          "metadata": {}
        }
      ]
    },
    {
      "cell_type": "markdown",
      "source": [
        "# 8. MODEL EVALUATION"
      ],
      "metadata": {
        "id": "dfqb81aMla7Q"
      }
    },
    {
      "cell_type": "code",
      "source": [
        "# Evaluate the model on the validation dataset\n",
        "loss, accuracy = model.evaluate(fer_test_data, verbose=1)\n",
        "\n",
        "# Print the loss and accuracy\n",
        "print(f'Validation Loss: {loss}')\n",
        "print(f'Validation Accuracy: {accuracy * 100:.2f}%')"
      ],
      "metadata": {
        "colab": {
          "base_uri": "https://localhost:8080/"
        },
        "id": "ym5KivgRHWhN",
        "outputId": "89d2d9ea-a0b2-4650-cb50-8e36b8a2435a"
      },
      "execution_count": null,
      "outputs": [
        {
          "output_type": "stream",
          "name": "stdout",
          "text": [
            "\u001b[1m4/4\u001b[0m \u001b[32m━━━━━━━━━━━━━━━━━━━━\u001b[0m\u001b[37m\u001b[0m \u001b[1m0s\u001b[0m 73ms/step - accuracy: 1.0000 - loss: 0.0540\n",
            "Validation Loss: 0.04178641363978386\n",
            "Validation Accuracy: 100.00%\n"
          ]
        }
      ]
    },
    {
      "cell_type": "markdown",
      "source": [
        "Kode ini adalah bagian akhir dari serangkaian langkah dalam membangun dan melatih model kecerdasan buatan (dalam hal ini, jaringan saraf tiruan) untuk mengenali emosi dari gambar. Setelah semua persiapan data (membagi dataset, menyiapkan generator data untuk pelatihan dan pengujian) dan pendefinisian struktur model selesai, bagian kode ini adalah momen di mana model mulai belajar.\n",
        "\n",
        "Secara ringkas, baris kode ini memerintahkan model yang telah dibuat untuk melakukan proses pelatihan (training). Proses pelatihan ini akan menggunakan data yang disiapkan sebelumnya.\n",
        "\n",
        "Ada beberapa parameter penting yang ditentukan dalam perintah pelatihan ini:\n",
        "\n",
        "1. Ukuran Batch (batch_size): Ini mengatur berapa banyak gambar yang diproses oleh model dalam satu \"gelombang\" sebelum model menyesuaikan pengaturannya (disebut bobot) untuk belajar. Dalam kode ini, setiap gelombang terdiri dari 64 gambar.\n",
        "2. Data Pelatihan: Model akan menggunakan generator data pelatihan (fer_training_data) yang sebelumnya sudah disiapkan. Generator ini bertugas memasok gambar-gambar pelatihan (yang sudah diubah ukurannya, dinormalisasi, dan mungkin diaugmentasi atau divariasikan secara acak untuk membantu model belajar lebih baik) kepada model dalam batch-batch berukuran 64.\n",
        "3. Jumlah Epoch (epochs): Ini menentukan berapa kali model akan \"melihat\" seluruh dataset pelatihan. Dalam kode ini, model diatur untuk dilatih hingga 60 kali melewati seluruh data pelatihan. Namun, proses ini bisa berhenti lebih cepat.\n",
        "4. Data Validasi (validation_data): Selama pelatihan, model juga akan dievaluasi secara berkala (setelah setiap epoch) menggunakan generator data pengujian (fer_test_data). Data pengujian ini adalah gambar yang belum pernah dilihat model saat pelatihan. Evaluasi pada data validasi ini penting untuk memantau seberapa baik model bisa mengenali emosi pada gambar baru dan untuk mendeteksi apakah model mulai \"menghafal\" data pelatihan (overfitting).\n",
        "5. Callback (callbacks): Ini adalah \"pengawas\" atau fungsi tambahan yang dijalankan selama pelatihan. Sebelumnya sudah didefinisikan dua callback: satu untuk menghentikan pelatihan lebih awal jika akurasi model pada data validasi sudah tidak meningkat lagi setelah beberapa epoch (ini mencegah overfitting dan menghemat waktu), dan satu lagi untuk menurunkan kecepatan belajar model jika peningkatannya mulai melambat (ini bisa membantu model menemukan kinerja yang lebih baik). Kedua pengawas ini aktif selama proses model.fit().\n",
        "\n",
        "Hasil dari proses pelatihan ini, termasuk informasi tentang akurasi dan kerugian (loss) pada data pelatihan dan validasi di setiap epoch, akan disimpan dalam variabel history. Variabel history ini biasanya digunakan untuk membuat grafik dan menganalisis performa model selama pelatihan.\n",
        "\n",
        "Jadi, secara keseluruhan, kode ini adalah perintah untuk memulai pembelajaran model menggunakan data pelatihan, dengan pengawasan pada data pengujian, dan diatur agar berhenti atau menyesuaikan diri demi mendapatkan performa terbaik."
      ],
      "metadata": {
        "id": "W5BcHRUPhsPK"
      }
    },
    {
      "cell_type": "markdown",
      "source": [],
      "metadata": {
        "id": "zkwFoqoUlWH6"
      }
    },
    {
      "cell_type": "code",
      "source": [
        "from sklearn.metrics import confusion_matrix\n",
        "import numpy as np\n",
        "import seaborn as sns\n",
        "import matplotlib.pyplot as plt\n",
        "\n",
        "# 1. Mendapatkan label sebenarnya dan prediksi\n",
        "# Reset generator untuk memastikan urutan yang sama\n",
        "fer_test_data.reset()\n",
        "Y_pred = model.predict(fer_test_data)\n",
        "# Mengambil indeks kelas dengan probabilitas tertinggi sebagai prediksi\n",
        "y_pred_classes = np.argmax(Y_pred, axis=1)\n",
        "# Mendapatkan label sebenarnya dari generator\n",
        "y_true = fer_test_data.classes\n",
        "\n",
        "# Mendapatkan nama-nama kelas dari generator\n",
        "class_labels = list(fer_test_data.class_indices.keys())\n",
        "\n",
        "# 2. Membuat Confusion Matrix\n",
        "conf_matrix = confusion_matrix(y_true, y_pred_classes)\n",
        "\n",
        "# 3. Visualisasi Confusion Matrix\n",
        "plt.figure(figsize=(10, 8))\n",
        "sns.heatmap(conf_matrix, annot=True, fmt='d', cmap='Blues', xticklabels=class_labels, yticklabels=class_labels)\n",
        "plt.xlabel('Predicted Label')\n",
        "plt.ylabel('True Label')\n",
        "plt.title('Confusion Matrix')\n",
        "plt.show()\n",
        "\n",
        "# 4. Menghitung Akurasi per Kelas\n",
        "# Akurasi per kelas = (Jumlah True Positif) / (Jumlah Data Sebenarnya di Kelas Tersebut)\n",
        "# True Positif untuk setiap kelas ada di diagonal confusion matrix\n",
        "diagonal = np.diag(conf_matrix)\n",
        "# Jumlah total data untuk setiap kelas adalah jumlah baris di confusion matrix\n",
        "row_sums = conf_matrix.sum(axis=1)\n",
        "\n",
        "accuracy_per_class = diagonal / row_sums\n",
        "\n",
        "print(\"\\nAkurasi per Ekspresi:\")\n",
        "for i in range(len(class_labels)):\n",
        "    print(f\"{class_labels[i]}: {accuracy_per_class[i]:.4f}\")"
      ],
      "metadata": {
        "colab": {
          "base_uri": "https://localhost:8080/",
          "height": 900
        },
        "id": "CWOGXChsL7N0",
        "outputId": "9e65d75d-38eb-4540-9949-a2ba63564883"
      },
      "execution_count": null,
      "outputs": [
        {
          "output_type": "stream",
          "name": "stdout",
          "text": [
            "\u001b[1m4/4\u001b[0m \u001b[32m━━━━━━━━━━━━━━━━━━━━\u001b[0m\u001b[37m\u001b[0m \u001b[1m2s\u001b[0m 279ms/step\n"
          ]
        },
        {
          "output_type": "display_data",
          "data": {
            "text/plain": [
              "<Figure size 1000x800 with 2 Axes>"
            ],
            "image/png": "[encoded data removed]"
          },
          "metadata": {}
        },
        {
          "output_type": "stream",
          "name": "stdout",
          "text": [
            "\n",
            "Akurasi per Ekspresi:\n",
            "anger: 1.0000\n",
            "contempt: 1.0000\n",
            "disgust: 1.0000\n",
            "fear: 1.0000\n",
            "happy: 1.0000\n",
            "sadness: 1.0000\n",
            "surprise: 1.0000\n"
          ]
        }
      ]
    },
    {
      "cell_type": "code",
      "source": [
        "# Save the model\n",
        "model.save('facial_expression_model.h5')\n",
        "print(\"Model saved as 'facial_expression_model.h5'\")"
      ],
      "metadata": {
        "colab": {
          "base_uri": "https://localhost:8080/"
        },
        "id": "bVOnHcx6S2kq",
        "outputId": "bd28a257-1cc6-4e98-e64d-56fd4c9ffe1b"
      },
      "execution_count": null,
      "outputs": [
        {
          "output_type": "stream",
          "name": "stderr",
          "text": [
            "WARNING:absl:You are saving your model as an HDF5 file via `model.save()` or `keras.saving.save_model(model)`. This file format is considered legacy. We recommend using instead the native Keras format, e.g. `model.save('my_model.keras')` or `keras.saving.save_model(model, 'my_model.keras')`. \n"
          ]
        },
        {
          "output_type": "stream",
          "name": "stdout",
          "text": [
            "Model saved as 'facial_expression_model.h5'\n"
          ]
        }
      ]
    }
  ]
}